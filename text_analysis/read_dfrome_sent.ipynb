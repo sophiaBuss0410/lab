{
  "cells": [
    {
      "cell_type": "markdown",
      "metadata": {
        "colab_type": "text",
        "id": "view-in-github"
      },
      "source": [
        "<a href=\"https://colab.research.google.com/github/sophiaBuss0410/lab/blob/main/read_dfrome_try.ipynb\" target=\"_parent\"><img src=\"https://colab.research.google.com/assets/colab-badge.svg\" alt=\"Open In Colab\"/></a>"
      ]
    },
    {
      "cell_type": "markdown",
      "metadata": {
        "id": "twhQPdwYu5KU"
      },
      "source": [
        "参考：https://qiita.com/kikuchiTakuya/items/53990fca06fb9ba1d8a7\n",
        "\n",
        "\n",
        "https://note.nkmk.me/python-dict-keys-values-items/"
      ]
    },
    {
      "cell_type": "code",
      "execution_count": 1,
      "metadata": {
        "id": "K_LGNEpqmAeD"
      },
      "outputs": [],
      "source": [
        "import json"
      ]
    },
    {
      "cell_type": "code",
      "execution_count": 155,
      "metadata": {
        "colab": {
          "base_uri": "https://localhost:8080/"
        },
        "id": "MOUgr_Ipuc0O",
        "outputId": "c701eb8c-d619-4c2b-9d13-e1ec10841c36"
      },
      "outputs": [
        {
          "name": "stdout",
          "output_type": "stream",
          "text": [
            "{'url': '', 'tree_id': 909, 'u': 'https://www.dfrome.com/select?id=909', 'memo': '理工系進学女性を増やす\\n森原ブリッジ', 'refs': '', 'bookmark': False, 'username': 'soph', 'name': 'Women Scientist/Engineer #minority #phasex', 'data': {'arrows': {'hasReason': [], 'hasEffect': [], 'hasArtifactsOnly': [{'refs': '', 'url': '', 'd2': {'width': 270, 'listId': 1, 'stageX': 1455.999986770391, 'stageY': 489.9994682359754}, 'memo': '', 'i2': 3, 'd1': {'width': 102, 'listId': 1, 'stageX': 1638.9999806988315, 'stageY': 744.0004873461471}, 'visible': True, 'id': 1, 'i1': 5}, {'refs': '', 'url': '', 'd2': {'width': 348, 'listId': 1, 'stageX': 1147.0000366210913, 'stageY': 437.9992953344661}, 'memo': '', 'i2': 11, 'd1': {'width': 270, 'listId': 1, 'stageX': 1455.999986770391, 'stageY': 489.9994682359754}, 'visible': True, 'id': 2, 'i1': 3}, {'refs': '', 'url': '', 'd2': {'width': 272, 'listId': 1, 'stageX': 1448, 'stageY': 247.999495606143}, 'memo': '', 'i2': 10, 'd1': {'width': 224, 'listId': 1, 'stageX': 1290.999999680444, 'stageY': 363.99963136238944}, 'visible': True, 'id': 3, 'i1': 2}, {'refs': '', 'url': '', 'd2': {'width': 181, 'listId': 1, 'stageX': 1755, 'stageY': 247.99940817787447}, 'memo': '', 'i2': 12, 'd1': {'width': 224, 'listId': 1, 'stageX': 1290.999999680444, 'stageY': 363.99963136238944}, 'visible': True, 'id': 4, 'i1': 2}, {'refs': '', 'url': '', 'd2': {'width': 272, 'listId': 1, 'stageX': 1448, 'stageY': 247.999495606143}, 'memo': '', 'i2': 10, 'd1': {'width': 181, 'listId': 1, 'stageX': 1594.000004090314, 'stageY': 374.99915973457735}, 'visible': True, 'id': 5, 'i1': 4}, {'refs': '', 'url': '', 'd2': {'width': 181, 'listId': 1, 'stageX': 1755, 'stageY': 247.99940817787447}, 'memo': '', 'i2': 12, 'd1': {'width': 181, 'listId': 1, 'stageX': 1594.000004090314, 'stageY': 374.99915973457735}, 'visible': True, 'id': 6, 'i1': 4}, {'refs': '', 'url': '', 'd2': {'width': 224, 'listId': 1, 'stageX': 1290.999999680444, 'stageY': 363.99963136238944}, 'memo': '', 'i2': 2, 'd1': {'width': 270, 'listId': 1, 'stageX': 1455.999986770391, 'stageY': 489.9994682359754}, 'visible': True, 'id': 7, 'i1': 3}, {'refs': '', 'url': '', 'd2': {'width': 181, 'listId': 1, 'stageX': 1594.000004090314, 'stageY': 374.99915973457735}, 'memo': '', 'i2': 4, 'd1': {'width': 270, 'listId': 1, 'stageX': 1455.999986770391, 'stageY': 489.9994682359754}, 'visible': True, 'id': 8, 'i1': 3}, {'refs': '', 'url': '', 'd2': {'width': 224, 'listId': 1, 'stageX': 1290.999999680444, 'stageY': 363.99963136238944}, 'memo': '', 'i2': 2, 'd1': {'width': 348, 'listId': 1, 'stageX': 1147.0000366210913, 'stageY': 437.9992953344661}, 'visible': True, 'id': 9, 'i1': 11}, {'refs': '', 'url': '', 'd2': {'width': 181, 'listId': 1, 'stageX': 1594.000004090314, 'stageY': 374.99915973457735}, 'memo': '', 'i2': 4, 'd1': {'width': 348, 'listId': 1, 'stageX': 1147.0000366210913, 'stageY': 437.9992953344661}, 'visible': True, 'id': 10, 'i1': 11}, {'refs': '', 'url': '', 'd2': {'width': 211, 'listId': 1, 'stageX': 1501.999995078841, 'stageY': 882.0008416730429}, 'memo': '', 'i2': 14, 'd1': {'width': 97, 'listId': 1, 'stageX': 1345, 'stageY': 989.0017552906223}, 'visible': True, 'id': 11, 'i1': 13}, {'refs': '', 'url': '', 'd2': {'width': 211, 'listId': 1, 'stageX': 1501.999995078841, 'stageY': 882.0008416730429}, 'memo': '', 'i2': 14, 'd1': {'width': 467, 'listId': 1, 'stageX': 1531, 'stageY': 982.0019503229137}, 'visible': True, 'id': 12, 'i1': 15}, {'refs': '', 'url': '', 'd2': {'width': 102, 'listId': 1, 'stageX': 1638.9999806988315, 'stageY': 744.0004873461471}, 'memo': '', 'i2': 5, 'd1': {'width': 211, 'listId': 1, 'stageX': 1501.999995078841, 'stageY': 882.0008416730429}, 'visible': True, 'id': 13, 'i1': 14}, {'refs': '', 'url': '', 'd2': {'width': 102, 'listId': 1, 'stageX': 1638.9999806988315, 'stageY': 744.0004873461471}, 'memo': '', 'i2': 5, 'd1': {'width': 196, 'listId': 1, 'stageX': 1373.000019620724, 'stageY': 813.9997623483675}, 'visible': True, 'id': 14, 'i1': 21}, {'refs': '', 'url': '', 'd2': {'width': 124, 'listId': 1, 'stageX': 1238, 'stageY': 251.99984531921717}, 'memo': '', 'i2': 17, 'd1': {'width': 224, 'listId': 1, 'stageX': 1290.999999680444, 'stageY': 363.99963136238944}, 'visible': True, 'id': 15, 'i1': 2}, {'refs': '', 'url': '', 'd2': {'width': 108, 'listId': 1, 'stageX': 1435, 'stageY': 75}, 'memo': '', 'i2': 9, 'd1': {'width': 124, 'listId': 1, 'stageX': 1238, 'stageY': 251.99984531921717}, 'visible': True, 'id': 16, 'i1': 17}, {'refs': '', 'url': '', 'd2': {'width': 181, 'listId': 1, 'stageX': 2306.999989518571, 'stageY': 175.99988035309445}, 'memo': '', 'i2': 24, 'd1': {'width': 270, 'listId': 1, 'stageX': 2307.9999884959925, 'stageY': 319.0000332352515}, 'visible': True, 'id': 17, 'i1': 28}, {'refs': '', 'url': '', 'd2': {'width': 358, 'listId': 1, 'stageX': 2277.9999972518203, 'stageY': 490.00011964690566}, 'memo': '', 'i2': 27, 'd1': {'width': 101, 'listId': 1, 'stageX': 2354.999987345591, 'stageY': 697.000671352081}, 'visible': True, 'id': 20, 'i1': 20}, {'refs': '', 'url': '', 'd2': {'width': 270, 'listId': 1, 'stageX': 2307.9999884959925, 'stageY': 319.0000332352515}, 'memo': '', 'i2': 28, 'd1': {'width': 187, 'listId': 1, 'stageX': 2451.9999959735974, 'stageY': 604.9998670589939}, 'visible': True, 'id': 21, 'i1': 26}, {'refs': '', 'url': '', 'd2': {'width': 270, 'listId': 1, 'stageX': 2307.9999884959925, 'stageY': 319.0000332352515}, 'memo': '', 'i2': 28, 'd1': {'width': 358, 'listId': 1, 'stageX': 2277.9999972518203, 'stageY': 490.00011964690566}, 'visible': True, 'id': 22, 'i1': 27}, {'refs': '', 'url': '', 'd2': {'width': 158, 'listId': 1, 'stageX': 2242.999987089948, 'stageY': 620.0011366456029}, 'memo': '', 'i2': 29, 'd1': {'width': 101, 'listId': 1, 'stageX': 2354.999987345591, 'stageY': 697.000671352081}, 'visible': True, 'id': 23, 'i1': 20}, {'refs': '', 'url': '', 'd2': {'width': 270, 'listId': 1, 'stageX': 2307.9999884959925, 'stageY': 319.0000332352515}, 'memo': '', 'i2': 28, 'd1': {'width': 158, 'listId': 1, 'stageX': 2242.999987089948, 'stageY': 620.0011366456029}, 'visible': True, 'id': 24, 'i1': 29}, {'refs': '', 'url': '', 'd2': {'width': 101, 'listId': 1, 'stageX': 2354.999987345591, 'stageY': 697.000671352081}, 'memo': '', 'i2': 20, 'd1': {'width': 187, 'listId': 1, 'stageX': 2451.9999959735974, 'stageY': 604.9998670589939}, 'visible': True, 'id': 25, 'i1': 26}, {'refs': '', 'url': '', 'd2': {'width': 224, 'listId': 1, 'stageX': 1827.0000044098686, 'stageY': 681.0015221745206}, 'memo': '', 'i2': 30, 'd1': {'width': 102, 'listId': 1, 'stageX': 1638.9999806988315, 'stageY': 744.0004873461471}, 'visible': True, 'id': 26, 'i1': 5}, {'refs': '', 'url': '', 'd2': {'width': 237, 'listId': 1, 'stageX': 1959.0000074136935, 'stageY': 587.0006779991315}, 'memo': '', 'i2': 31, 'd1': {'width': 224, 'listId': 1, 'stageX': 1827.0000044098686, 'stageY': 681.0015221745206}, 'visible': True, 'id': 27, 'i1': 30}, {'refs': '', 'url': '', 'd2': {'width': 158, 'listId': 1, 'stageX': 2242.999987089948, 'stageY': 620.0011366456029}, 'memo': '', 'i2': 29, 'd1': {'width': 237, 'listId': 1, 'stageX': 1959.0000074136935, 'stageY': 587.0006779991315}, 'visible': True, 'id': 28, 'i1': 31}, {'refs': '', 'url': '', 'd2': {'width': 220, 'listId': 1, 'stageX': 1776.000010737074, 'stageY': 546.0001661762577}, 'memo': '', 'i2': 32, 'd1': {'width': 237, 'listId': 1, 'stageX': 1959.0000074136935, 'stageY': 587.0006779991315}, 'visible': True, 'id': 29, 'i1': 31}, {'refs': '', 'url': '', 'd2': {'width': 270, 'listId': 1, 'stageX': 1455.999986770391, 'stageY': 489.9994682359754}, 'memo': '', 'i2': 3, 'd1': {'width': 220, 'listId': 1, 'stageX': 1776.000010737074, 'stageY': 546.0001661762577}, 'visible': True, 'id': 30, 'i1': 32}, {'refs': '', 'url': '', 'd2': {'width': 187, 'listId': 1, 'stageX': 2451.9999959735974, 'stageY': 604.9998670589939}, 'memo': '', 'i2': 26, 'd1': {'width': 149, 'listId': 1, 'stageX': 2589.999999552622, 'stageY': 882.0002259997106}, 'visible': True, 'id': 31, 'i1': 33}, {'refs': '', 'url': '', 'd2': {'width': 101, 'listId': 1, 'stageX': 2354.999987345591, 'stageY': 697.000671352081}, 'memo': '', 'i2': 20, 'd1': {'width': 149, 'listId': 1, 'stageX': 2589.999999552622, 'stageY': 882.0002259997106}, 'visible': True, 'id': 32, 'i1': 33}, {'refs': '', 'url': '', 'd2': {'width': 187, 'listId': 1, 'stageX': 2451.9999959735974, 'stageY': 604.9998670589939}, 'memo': '', 'i2': 26, 'd1': {'width': 249, 'listId': 1, 'stageX': 2304.000021985437, 'stageY': 882.0004652935216}, 'visible': True, 'id': 33, 'i1': 34}, {'refs': '', 'url': '', 'd2': {'width': 224, 'listId': 1, 'stageX': 1827.0000044098686, 'stageY': 681.0015221745206}, 'memo': '', 'i2': 30, 'd1': {'width': 211, 'listId': 1, 'stageX': 1501.999995078841, 'stageY': 882.0008416730429}, 'visible': True, 'id': 34, 'i1': 14}, {'refs': '', 'url': '', 'd2': {'width': 102, 'listId': 1, 'stageX': 1638.9999806988315, 'stageY': 744.0004873461471}, 'memo': '', 'i2': 5, 'd1': {'width': 186, 'listId': 1, 'stageX': 1850.0000098423177, 'stageY': 822.9999202353962}, 'visible': True, 'id': 35, 'i1': 35}, {'refs': '', 'url': '', 'd2': {'width': 186, 'listId': 1, 'stageX': 1850.0000098423177, 'stageY': 822.9999202353962}, 'memo': '', 'i2': 35, 'd1': {'width': 249, 'listId': 1, 'stageX': 2304.000021985437, 'stageY': 882.0004652935216}, 'visible': True, 'id': 36, 'i1': 34}, {'refs': '', 'url': '', 'd2': {'width': 358, 'listId': 1, 'stageX': 1541.9999957179527, 'stageY': 617.9998404707926}, 'memo': '', 'i2': 36, 'd1': {'width': 102, 'listId': 1, 'stageX': 1638.9999806988315, 'stageY': 744.0004873461471}, 'visible': True, 'id': 37, 'i1': 5}, {'refs': '', 'url': '', 'd2': {'width': 270, 'listId': 1, 'stageX': 1455.999986770391, 'stageY': 489.9994682359754}, 'memo': '', 'i2': 3, 'd1': {'width': 358, 'listId': 1, 'stageX': 1541.9999957179527, 'stageY': 617.9998404707926}, 'visible': True, 'id': 38, 'i1': 36}, {'refs': '', 'url': '', 'd2': {'width': 358, 'listId': 1, 'stageX': 1541.9999957179527, 'stageY': 617.9998404707926}, 'memo': '', 'i2': 36, 'd1': {'width': 186, 'listId': 1, 'stageX': 1850.0000098423177, 'stageY': 822.9999202353962}, 'visible': True, 'id': 39, 'i1': 35}]}, 'items': {'artifacts': [{'width': 224, 'fT': 'Being a science and engineering woman', 'url': '', 'pos': {'x': 326.99999968044403, 'y': 310.99963136238944}, 'memo': '', 'refs': '', 'sT': 'become normal', 'visible': True, 'id': 2}, {'width': 270, 'fT': 'the number of women in science and engineering', 'url': '', 'pos': {'x': 491.99998677039093, 'y': 436.9994682359754}, 'memo': '', 'refs': '', 'sT': 'Increase', 'visible': True, 'id': 3}, {'width': 181, 'fT': 'Science and engineering women', 'url': '', 'pos': {'x': 630.000004090314, 'y': 321.99915973457735}, 'memo': '', 'refs': '', 'sT': 'become major', 'visible': True, 'id': 4}, {'width': 102, 'fT': 'NPO organization', 'url': '', 'pos': {'x': 674.9999806988315, 'y': 691.0004873461471}, 'memo': 'GSTEM-CPP', 'refs': '', 'sT': 'be established', 'visible': True, 'id': 5}, {'width': 108, 'fT': 'The Society', 'url': '', 'pos': {'x': 471, 'y': 22}, 'memo': '', 'refs': '', 'sT': 'become diverse', 'visible': True, 'id': 9}, {'width': 272, 'fT': 'science and engineering women', 'url': '', 'pos': {'x': 484, 'y': 194.999495606143}, 'memo': '', 'refs': '', 'sT': 'Proud to be a science and engineering woman', 'visible': True, 'id': 10}, {'width': 348, 'fT': 'the number of role models for women in science and technology', 'url': '', 'pos': {'x': 183.00003662109134, 'y': 384.9992953344661}, 'memo': '', 'refs': '', 'sT': 'increase', 'visible': True, 'id': 11}, {'width': 181, 'fT': 'Science and engineering women', 'url': '', 'pos': {'x': 791, 'y': 194.99940817787447}, 'memo': '', 'refs': '', 'sT': 'can live as themselves', 'visible': True, 'id': 12}, {'width': 97, 'fT': 'Aspiring people', 'url': '', 'pos': {'x': 381, 'y': 936.0017552906223}, 'memo': '', 'refs': '', 'sT': 'gather friends', 'visible': True, 'id': 13}, {'width': 211, 'fT': 'events for middle and high school girls', 'url': '', 'pos': {'x': 537.999995078841, 'y': 829.0008416730429}, 'memo': '', 'refs': '', 'sT': 'organized', 'visible': True, 'id': 14}, {'width': 467, 'fT': 'JST', 'url': '', 'pos': {'x': 567, 'y': 929.0019503229137}, 'memo': '', 'refs': '', 'sT': 'Invites Applications for Programs for Female Junior High and High School Students', 'visible': True, 'id': 15}, {'width': 124, 'fT': 'A society', 'url': '', 'pos': {'x': 274, 'y': 198.99984531921717}, 'memo': '', 'refs': '', 'sT': 'embraces diversity', 'visible': True, 'id': 17}, {'width': 211, 'fT': 'A society in which everyone can thrive', 'url': '', 'pos': {'y': 76.99994619798858, 'x': 692}, 'memo': '', 'refs': '', 'sT': 'can be realized', 'visible': True, 'id': 18}, {'width': 101, 'fT': 'Unconscious bias', 'url': '', 'pos': {'x': 1390.9999873455909, 'y': 644.000671352081}, 'memo': '', 'refs': '', 'sT': 'prevails', 'visible': True, 'id': 20}, {'width': 196, 'fT': 'The need to raise funds on our own', 'url': '', 'pos': {'x': 409.00001962072406, 'y': 760.9997623483675}, 'memo': '', 'refs': '', 'sT': 'emerge', 'visible': True, 'id': 21}, {'width': 181, 'fT': 'Science and engineering women', 'url': '', 'pos': {'x': 1342.999989518571, 'y': 122.99988035309445}, 'memo': '', 'refs': '', 'sT': 'remain minor', 'visible': True, 'id': 24}, {'width': 187, 'fT': 'Women', 'url': '', 'pos': {'x': 1487.9999959735974, 'y': 551.9998670589939}, 'memo': '', 'refs': '', 'sT': 'are said not suited for science.', 'visible': True, 'id': 26}, {'width': 358, 'fT': 'Parents and teachers', 'url': '', 'pos': {'x': 1313.9999972518203, 'y': 437.00011964690566}, 'memo': '', 'refs': '', 'sT': 'promote liberal arts to female middle and high school students.', 'visible': True, 'id': 27}, {'width': 270, 'fT': 'the number of women in science and engineering', 'url': '', 'pos': {'x': 1343.9999884959925, 'y': 266.0000332352515}, 'memo': '', 'refs': '', 'sT': 'remain to be low', 'visible': True, 'id': 28}, {'width': 158, 'fT': 'Young girls', 'url': '', 'pos': {'x': 1278.9999870899478, 'y': 567.0011366456029}, 'memo': '', 'refs': '', 'sT': 'internalize the stereotype', 'visible': True, 'id': 29}, {'width': 224, 'fT': 'NPO organization', 'url': '', 'pos': {'x': 863.0000044098686, 'y': 628.0015221745206}, 'memo': '', 'refs': '', 'sT': 'work towards breaking the stereotype', 'visible': True, 'id': 30}, {'width': 237, 'fT': 'Young girls', 'url': '', 'pos': {'x': 995.0000074136935, 'y': 534.0006779991315}, 'memo': '', 'refs': '', 'sT': 'get knowledge about wrong stereotypes', 'visible': True, 'id': 31}, {'width': 220, 'fT': 'Young girls', 'url': '', 'pos': {'x': 812.000010737074, 'y': 493.0001661762577}, 'memo': '', 'refs': '', 'sT': 'do not hesitate to aim for STEM area', 'visible': True, 'id': 32}, {'width': 149, 'fT': 'Science', 'url': '', 'pos': {'x': 1625.9999995526218, 'y': 829.0002259997106}, 'memo': '', 'refs': '', 'sT': 'be associated with men', 'visible': True, 'id': 33}, {'width': 249, 'fT': 'Women', 'url': '', 'pos': {'x': 1340.000021985437, 'y': 829.0004652935216}, 'memo': '', 'refs': '', 'sT': 'be assiciated with care and domestic work', 'visible': True, 'id': 34}, {'width': 186, 'fT': 'The need for support in child care', 'url': '', 'pos': {'x': 886.0000098423177, 'y': 769.9999202353962}, 'memo': '', 'refs': '', 'sT': 'emerge', 'visible': True, 'id': 35}, {'width': 358, 'fT': 'NPO organization', 'url': '', 'pos': {'x': 577.9999957179527, 'y': 564.9998404707926}, 'memo': '', 'refs': '', 'sT': 'works to improve the working environment for women in STEM', 'visible': True, 'id': 36}], 'effects': [{'width': 56, 'fT': 'I', 'url': '', 'pos': {'y': 464, 'x': 368}, 'memo': 'with more friends', 'refs': '', 'sT': 'happy', 'visible': True, 'id': 16}], 'reasons': [{'width': 213, 'fT': 'I was the only student in', 'url': '', 'pos': {'y': 392, 'x': 180}, 'memo': '', 'refs': '', 'sT': 'my class (Univ. Chemical Engineering)', 'visible': True, 'id': 1}, {'width': 49, 'fT': 'I hate', 'url': '', 'pos': {'y': 354, 'x': 371}, 'memo': '', 'refs': '', 'sT': 'waste', 'visible': True, 'id': 6}, {'width': 59, 'fT': 'I like', 'url': '', 'pos': {'y': 482, 'x': 360}, 'memo': '', 'refs': '', 'sT': 'comrades', 'visible': True, 'id': 7}]}}}\n"
          ]
        }
      ],
      "source": [
        "file = \"id909\"\n",
        "\n",
        "json_open = open(file + '.json', 'r', encoding=\"utf-8\")\n",
        "json_load = json.load(json_open)\n",
        "\n",
        "print(json_load)"
      ]
    },
    {
      "cell_type": "code",
      "execution_count": 156,
      "metadata": {
        "colab": {
          "base_uri": "https://localhost:8080/"
        },
        "id": "g1YTentqu0vZ",
        "outputId": "7ea1d38d-3b35-4e18-f2a0-f47ebbaf5659"
      },
      "outputs": [
        {
          "data": {
            "text/plain": [
              "dict_keys(['url', 'tree_id', 'u', 'memo', 'refs', 'bookmark', 'username', 'name', 'data'])"
            ]
          },
          "execution_count": 156,
          "metadata": {},
          "output_type": "execute_result"
        }
      ],
      "source": [
        "d = json_load\n",
        "d.keys()"
      ]
    },
    {
      "attachments": {},
      "cell_type": "markdown",
      "metadata": {},
      "source": [
        "## テキスト取り出し"
      ]
    },
    {
      "cell_type": "code",
      "execution_count": 157,
      "metadata": {},
      "outputs": [],
      "source": [
        "import pandas as pd\n",
        "import numpy as np"
      ]
    },
    {
      "cell_type": "code",
      "execution_count": 213,
      "metadata": {},
      "outputs": [],
      "source": [
        "#現在の最大表示列数の出力\n",
        "pd.get_option(\"display.max_columns\")\n",
        "\n",
        "#最大表示列数の指定（ここでは50列を指定）\n",
        "pd.set_option('display.max_columns', 20)"
      ]
    },
    {
      "cell_type": "code",
      "execution_count": 245,
      "metadata": {},
      "outputs": [
        {
          "name": "stdout",
          "output_type": "stream",
          "text": [
            "160\n",
            "80\n"
          ]
        }
      ],
      "source": [
        "print(pd.options.display.width)\n",
        "\n",
        "pd.options.display.width = 80\n",
        "\n",
        "print(pd.options.display.width)"
      ]
    },
    {
      "cell_type": "code",
      "execution_count": 247,
      "metadata": {},
      "outputs": [
        {
          "name": "stdout",
          "output_type": "stream",
          "text": [
            "50\n"
          ]
        }
      ],
      "source": [
        "print(pd.options.display.max_colwidth)\n",
        "\n",
        "pd.options.display.max_colwidth = 100"
      ]
    },
    {
      "cell_type": "code",
      "execution_count": 248,
      "metadata": {},
      "outputs": [
        {
          "data": {
            "text/plain": [
              "{'width': 270,\n",
              " 'fT': 'the number of women in science and engineering',\n",
              " 'url': '',\n",
              " 'pos': {'x': 491.99998677039093, 'y': 436.9994682359754},\n",
              " 'memo': '',\n",
              " 'refs': '',\n",
              " 'sT': 'Increase',\n",
              " 'visible': True,\n",
              " 'id': 3}"
            ]
          },
          "execution_count": 248,
          "metadata": {},
          "output_type": "execute_result"
        }
      ],
      "source": [
        "# ノード情報\n",
        "\n",
        "nodes = d[\"data\"][\"items\"][\"artifacts\"]\n",
        "nodes[1]"
      ]
    },
    {
      "cell_type": "code",
      "execution_count": 249,
      "metadata": {},
      "outputs": [
        {
          "data": {
            "text/plain": [
              "27"
            ]
          },
          "execution_count": 249,
          "metadata": {},
          "output_type": "execute_result"
        }
      ],
      "source": [
        "len(nodes)"
      ]
    },
    {
      "cell_type": "code",
      "execution_count": 250,
      "metadata": {},
      "outputs": [
        {
          "data": {
            "text/plain": [
              "['Being a science and engineering woman become normal',\n",
              " 'the number of women in science and engineering Increase',\n",
              " 'Science and engineering women become major',\n",
              " 'NPO organization be established',\n",
              " 'The Society become diverse',\n",
              " 'science and engineering women Proud to be a science and engineering woman',\n",
              " 'the number of role models for women in science and technology increase',\n",
              " 'Science and engineering women can live as themselves',\n",
              " 'Aspiring people gather friends',\n",
              " 'events for middle and high school girls organized',\n",
              " 'JST Invites Applications for Programs for Female Junior High and High School Students',\n",
              " 'A society embraces diversity',\n",
              " 'A society in which everyone can thrive can be realized',\n",
              " 'Unconscious bias prevails',\n",
              " 'The need to raise funds on our own emerge',\n",
              " 'Science and engineering women remain minor',\n",
              " 'Women are said not suited for science.',\n",
              " 'Parents and teachers promote liberal arts to female middle and high school students.',\n",
              " 'the number of women in science and engineering remain to be low',\n",
              " 'Young girls internalize the stereotype',\n",
              " 'NPO organization work towards breaking the stereotype',\n",
              " 'Young girls get knowledge about wrong stereotypes',\n",
              " 'Young girls do not hesitate to aim for STEM area',\n",
              " 'Science be associated with men',\n",
              " 'Women be assiciated with care and domestic work',\n",
              " 'The need for support in child care emerge',\n",
              " 'NPO organization works to improve the working environment for women in STEM']"
            ]
          },
          "execution_count": 250,
          "metadata": {},
          "output_type": "execute_result"
        }
      ],
      "source": [
        "# テキストすべて\n",
        "\n",
        "sent = [nodes[i]['fT'] + \" \" +nodes[i]['sT'] for i in range(len(nodes))]\n",
        "sent"
      ]
    },
    {
      "cell_type": "code",
      "execution_count": 251,
      "metadata": {},
      "outputs": [],
      "source": [
        "# .txtファイルに保存\n",
        "\n",
        "with open('%s.txt' %file, 'w') as f:\n",
        "    for line in sent:\n",
        "        f.write(line)\n",
        "        f.write('\\n')"
      ]
    },
    {
      "cell_type": "code",
      "execution_count": 252,
      "metadata": {},
      "outputs": [
        {
          "name": "stdout",
          "output_type": "stream",
          "text": [
            "   id                                              fT              sT  \\\n",
            "0   2           Being a science and engineering woman   become normal   \n",
            "1   3  the number of women in science and engineering        Increase   \n",
            "2   4                   Science and engineering women    become major   \n",
            "3   5                                NPO organization  be established   \n",
            "4   9                                     The Society  become diverse   \n",
            "\n",
            "            x           y  \n",
            "0  327.000000  310.999631  \n",
            "1  491.999987  436.999468  \n",
            "2  630.000004  321.999160  \n",
            "3  674.999981  691.000487  \n",
            "4  471.000000   22.000000  \n",
            "              id            x           y\n",
            "count  27.000000    27.000000   27.000000\n",
            "mean   19.962963   821.222223  500.963169\n",
            "std    10.814810   423.323871  270.014491\n",
            "min     2.000000   183.000037   22.000000\n",
            "25%    11.500000   487.999993  288.499832\n",
            "50%    20.000000   692.000000  534.000678\n",
            "75%    29.500000  1296.499992  726.000125\n",
            "max    36.000000  1626.000000  936.001755\n"
          ]
        }
      ],
      "source": [
        "lst = [[nodes[i]['id'], nodes[i]['fT'], nodes[i]['sT'], nodes[i]['pos']['x'], nodes[i]['pos']['y']] for i in range(len(nodes))]\n",
        "lst[:2]\n",
        "df = pd.DataFrame(lst, columns =['id', 'fT', 'sT', 'x', 'y']) \n",
        "print(df.head())\n",
        "print(df.describe())"
      ]
    },
    {
      "attachments": {},
      "cell_type": "markdown",
      "metadata": {},
      "source": [
        "## transformerによるネガポジ判定\n"
      ]
    },
    {
      "cell_type": "code",
      "execution_count": 253,
      "metadata": {},
      "outputs": [],
      "source": [
        "# pip install -q transformers"
      ]
    },
    {
      "cell_type": "code",
      "execution_count": 254,
      "metadata": {},
      "outputs": [
        {
          "name": "stderr",
          "output_type": "stream",
          "text": [
            "No model was supplied, defaulted to distilbert-base-uncased-finetuned-sst-2-english and revision af0f99b (https://huggingface.co/distilbert-base-uncased-finetuned-sst-2-english).\n",
            "Using a pipeline without specifying a model name and revision in production is not recommended.\n"
          ]
        }
      ],
      "source": [
        "from transformers import pipeline\n",
        "sentiment_pipeline = pipeline(\"sentiment-analysis\")"
      ]
    },
    {
      "cell_type": "code",
      "execution_count": 279,
      "metadata": {},
      "outputs": [
        {
          "data": {
            "text/html": [
              "<div>\n",
              "<style scoped>\n",
              "    .dataframe tbody tr th:only-of-type {\n",
              "        vertical-align: middle;\n",
              "    }\n",
              "\n",
              "    .dataframe tbody tr th {\n",
              "        vertical-align: top;\n",
              "    }\n",
              "\n",
              "    .dataframe thead th {\n",
              "        text-align: right;\n",
              "    }\n",
              "</style>\n",
              "<table border=\"1\" class=\"dataframe\">\n",
              "  <thead>\n",
              "    <tr style=\"text-align: right;\">\n",
              "      <th></th>\n",
              "      <th>id</th>\n",
              "      <th>fT</th>\n",
              "      <th>sT</th>\n",
              "      <th>x</th>\n",
              "      <th>y</th>\n",
              "      <th>sentence</th>\n",
              "      <th>label</th>\n",
              "      <th>score</th>\n",
              "    </tr>\n",
              "  </thead>\n",
              "  <tbody>\n",
              "    <tr>\n",
              "      <th>0</th>\n",
              "      <td>2</td>\n",
              "      <td>Being a science and engineering woman</td>\n",
              "      <td>become normal</td>\n",
              "      <td>327.000000</td>\n",
              "      <td>310.999631</td>\n",
              "      <td>Being a science and engineering woman become normal</td>\n",
              "      <td>POSITIVE</td>\n",
              "      <td>0.994304</td>\n",
              "    </tr>\n",
              "    <tr>\n",
              "      <th>1</th>\n",
              "      <td>3</td>\n",
              "      <td>the number of women in science and engineering</td>\n",
              "      <td>Increase</td>\n",
              "      <td>491.999987</td>\n",
              "      <td>436.999468</td>\n",
              "      <td>the number of women in science and engineering Increase</td>\n",
              "      <td>POSITIVE</td>\n",
              "      <td>0.999377</td>\n",
              "    </tr>\n",
              "    <tr>\n",
              "      <th>2</th>\n",
              "      <td>4</td>\n",
              "      <td>Science and engineering women</td>\n",
              "      <td>become major</td>\n",
              "      <td>630.000004</td>\n",
              "      <td>321.999160</td>\n",
              "      <td>Science and engineering women become major</td>\n",
              "      <td>POSITIVE</td>\n",
              "      <td>0.997028</td>\n",
              "    </tr>\n",
              "    <tr>\n",
              "      <th>3</th>\n",
              "      <td>5</td>\n",
              "      <td>NPO organization</td>\n",
              "      <td>be established</td>\n",
              "      <td>674.999981</td>\n",
              "      <td>691.000487</td>\n",
              "      <td>NPO organization be established</td>\n",
              "      <td>POSITIVE</td>\n",
              "      <td>0.506204</td>\n",
              "    </tr>\n",
              "    <tr>\n",
              "      <th>4</th>\n",
              "      <td>9</td>\n",
              "      <td>The Society</td>\n",
              "      <td>become diverse</td>\n",
              "      <td>471.000000</td>\n",
              "      <td>22.000000</td>\n",
              "      <td>The Society become diverse</td>\n",
              "      <td>POSITIVE</td>\n",
              "      <td>0.997895</td>\n",
              "    </tr>\n",
              "  </tbody>\n",
              "</table>\n",
              "</div>"
            ],
            "text/plain": [
              "   id                                              fT              sT  \\\n",
              "0   2           Being a science and engineering woman   become normal   \n",
              "1   3  the number of women in science and engineering        Increase   \n",
              "2   4                   Science and engineering women    become major   \n",
              "3   5                                NPO organization  be established   \n",
              "4   9                                     The Society  become diverse   \n",
              "\n",
              "            x           y  \\\n",
              "0  327.000000  310.999631   \n",
              "1  491.999987  436.999468   \n",
              "2  630.000004  321.999160   \n",
              "3  674.999981  691.000487   \n",
              "4  471.000000   22.000000   \n",
              "\n",
              "                                                  sentence     label     score  \n",
              "0      Being a science and engineering woman become normal  POSITIVE  0.994304  \n",
              "1  the number of women in science and engineering Increase  POSITIVE  0.999377  \n",
              "2               Science and engineering women become major  POSITIVE  0.997028  \n",
              "3                          NPO organization be established  POSITIVE  0.506204  \n",
              "4                               The Society become diverse  POSITIVE  0.997895  "
            ]
          },
          "execution_count": 279,
          "metadata": {},
          "output_type": "execute_result"
        }
      ],
      "source": [
        "df['sentence'] = df['fT'] + ' ' + df['sT']\n",
        "a = pd.DataFrame(sentiment_pipeline(sent))\n",
        "df_all = pd.concat([df, a], axis=1)\n",
        "df_all.head()"
      ]
    },
    {
      "cell_type": "code",
      "execution_count": 280,
      "metadata": {},
      "outputs": [
        {
          "data": {
            "text/html": [
              "<div>\n",
              "<style scoped>\n",
              "    .dataframe tbody tr th:only-of-type {\n",
              "        vertical-align: middle;\n",
              "    }\n",
              "\n",
              "    .dataframe tbody tr th {\n",
              "        vertical-align: top;\n",
              "    }\n",
              "\n",
              "    .dataframe thead th {\n",
              "        text-align: right;\n",
              "    }\n",
              "</style>\n",
              "<table border=\"1\" class=\"dataframe\">\n",
              "  <thead>\n",
              "    <tr style=\"text-align: right;\">\n",
              "      <th></th>\n",
              "      <th>sentence</th>\n",
              "      <th>label</th>\n",
              "      <th>score</th>\n",
              "    </tr>\n",
              "  </thead>\n",
              "  <tbody>\n",
              "    <tr>\n",
              "      <th>13</th>\n",
              "      <td>Unconscious bias prevails</td>\n",
              "      <td>NEGATIVE</td>\n",
              "      <td>0.961618</td>\n",
              "    </tr>\n",
              "    <tr>\n",
              "      <th>15</th>\n",
              "      <td>Science and engineering women remain minor</td>\n",
              "      <td>NEGATIVE</td>\n",
              "      <td>0.960711</td>\n",
              "    </tr>\n",
              "    <tr>\n",
              "      <th>16</th>\n",
              "      <td>Women are said not suited for science.</td>\n",
              "      <td>NEGATIVE</td>\n",
              "      <td>0.999353</td>\n",
              "    </tr>\n",
              "    <tr>\n",
              "      <th>17</th>\n",
              "      <td>Parents and teachers promote liberal arts to female middle and high school students.</td>\n",
              "      <td>POSITIVE</td>\n",
              "      <td>0.998614</td>\n",
              "    </tr>\n",
              "    <tr>\n",
              "      <th>18</th>\n",
              "      <td>the number of women in science and engineering remain to be low</td>\n",
              "      <td>NEGATIVE</td>\n",
              "      <td>0.999538</td>\n",
              "    </tr>\n",
              "    <tr>\n",
              "      <th>19</th>\n",
              "      <td>Young girls internalize the stereotype</td>\n",
              "      <td>NEGATIVE</td>\n",
              "      <td>0.935954</td>\n",
              "    </tr>\n",
              "    <tr>\n",
              "      <th>21</th>\n",
              "      <td>Young girls get knowledge about wrong stereotypes</td>\n",
              "      <td>NEGATIVE</td>\n",
              "      <td>0.801296</td>\n",
              "    </tr>\n",
              "    <tr>\n",
              "      <th>23</th>\n",
              "      <td>Science be associated with men</td>\n",
              "      <td>POSITIVE</td>\n",
              "      <td>0.982755</td>\n",
              "    </tr>\n",
              "    <tr>\n",
              "      <th>24</th>\n",
              "      <td>Women be assiciated with care and domestic work</td>\n",
              "      <td>POSITIVE</td>\n",
              "      <td>0.984208</td>\n",
              "    </tr>\n",
              "  </tbody>\n",
              "</table>\n",
              "</div>"
            ],
            "text/plain": [
              "                                                                                sentence  \\\n",
              "13                                                             Unconscious bias prevails   \n",
              "15                                            Science and engineering women remain minor   \n",
              "16                                                Women are said not suited for science.   \n",
              "17  Parents and teachers promote liberal arts to female middle and high school students.   \n",
              "18                       the number of women in science and engineering remain to be low   \n",
              "19                                                Young girls internalize the stereotype   \n",
              "21                                     Young girls get knowledge about wrong stereotypes   \n",
              "23                                                        Science be associated with men   \n",
              "24                                       Women be assiciated with care and domestic work   \n",
              "\n",
              "       label     score  \n",
              "13  NEGATIVE  0.961618  \n",
              "15  NEGATIVE  0.960711  \n",
              "16  NEGATIVE  0.999353  \n",
              "17  POSITIVE  0.998614  \n",
              "18  NEGATIVE  0.999538  \n",
              "19  NEGATIVE  0.935954  \n",
              "21  NEGATIVE  0.801296  \n",
              "23  POSITIVE  0.982755  \n",
              "24  POSITIVE  0.984208  "
            ]
          },
          "execution_count": 280,
          "metadata": {},
          "output_type": "execute_result"
        }
      ],
      "source": [
        "df_all[df_all['x'] > 900].iloc[:, -3:]"
      ]
    },
    {
      "cell_type": "code",
      "execution_count": 257,
      "metadata": {},
      "outputs": [],
      "source": [
        "df_all['sqrt'] = np.sqrt(df_all['score'])"
      ]
    },
    {
      "cell_type": "code",
      "execution_count": 258,
      "metadata": {},
      "outputs": [],
      "source": [
        "df_all.loc[df_all['label'] == 'NEGATIVE', 'score'] = (-1)*df_all['score']"
      ]
    },
    {
      "cell_type": "code",
      "execution_count": 259,
      "metadata": {},
      "outputs": [],
      "source": [
        "df_all.loc[df_all['label'] == 'NEGATIVE', 'sqrt'] = (-1)*df_all['sqrt']"
      ]
    },
    {
      "cell_type": "code",
      "execution_count": 277,
      "metadata": {},
      "outputs": [
        {
          "data": {
            "text/html": [
              "<div>\n",
              "<style scoped>\n",
              "    .dataframe tbody tr th:only-of-type {\n",
              "        vertical-align: middle;\n",
              "    }\n",
              "\n",
              "    .dataframe tbody tr th {\n",
              "        vertical-align: top;\n",
              "    }\n",
              "\n",
              "    .dataframe thead th {\n",
              "        text-align: right;\n",
              "    }\n",
              "</style>\n",
              "<table border=\"1\" class=\"dataframe\">\n",
              "  <thead>\n",
              "    <tr style=\"text-align: right;\">\n",
              "      <th></th>\n",
              "      <th>id</th>\n",
              "      <th>fT</th>\n",
              "      <th>sT</th>\n",
              "      <th>x</th>\n",
              "      <th>y</th>\n",
              "      <th>sentence</th>\n",
              "      <th>neg</th>\n",
              "      <th>neu</th>\n",
              "      <th>pos</th>\n",
              "      <th>compound</th>\n",
              "    </tr>\n",
              "  </thead>\n",
              "  <tbody>\n",
              "    <tr>\n",
              "      <th>0</th>\n",
              "      <td>2</td>\n",
              "      <td>Being a science and engineering woman</td>\n",
              "      <td>become normal</td>\n",
              "      <td>327.000000</td>\n",
              "      <td>310.999631</td>\n",
              "      <td>Being a science and engineering woman become normal</td>\n",
              "      <td>0.0</td>\n",
              "      <td>1.00</td>\n",
              "      <td>0.00</td>\n",
              "      <td>0.0000</td>\n",
              "    </tr>\n",
              "    <tr>\n",
              "      <th>1</th>\n",
              "      <td>3</td>\n",
              "      <td>the number of women in science and engineering</td>\n",
              "      <td>Increase</td>\n",
              "      <td>491.999987</td>\n",
              "      <td>436.999468</td>\n",
              "      <td>the number of women in science and engineering Increase</td>\n",
              "      <td>0.0</td>\n",
              "      <td>0.66</td>\n",
              "      <td>0.34</td>\n",
              "      <td>0.3818</td>\n",
              "    </tr>\n",
              "    <tr>\n",
              "      <th>2</th>\n",
              "      <td>4</td>\n",
              "      <td>Science and engineering women</td>\n",
              "      <td>become major</td>\n",
              "      <td>630.000004</td>\n",
              "      <td>321.999160</td>\n",
              "      <td>Science and engineering women become major</td>\n",
              "      <td>0.0</td>\n",
              "      <td>1.00</td>\n",
              "      <td>0.00</td>\n",
              "      <td>0.0000</td>\n",
              "    </tr>\n",
              "    <tr>\n",
              "      <th>3</th>\n",
              "      <td>5</td>\n",
              "      <td>NPO organization</td>\n",
              "      <td>be established</td>\n",
              "      <td>674.999981</td>\n",
              "      <td>691.000487</td>\n",
              "      <td>NPO organization be established</td>\n",
              "      <td>0.0</td>\n",
              "      <td>1.00</td>\n",
              "      <td>0.00</td>\n",
              "      <td>0.0000</td>\n",
              "    </tr>\n",
              "    <tr>\n",
              "      <th>4</th>\n",
              "      <td>9</td>\n",
              "      <td>The Society</td>\n",
              "      <td>become diverse</td>\n",
              "      <td>471.000000</td>\n",
              "      <td>22.000000</td>\n",
              "      <td>The Society become diverse</td>\n",
              "      <td>0.0</td>\n",
              "      <td>1.00</td>\n",
              "      <td>0.00</td>\n",
              "      <td>0.0000</td>\n",
              "    </tr>\n",
              "  </tbody>\n",
              "</table>\n",
              "</div>"
            ],
            "text/plain": [
              "   id                                              fT              sT  \\\n",
              "0   2           Being a science and engineering woman   become normal   \n",
              "1   3  the number of women in science and engineering        Increase   \n",
              "2   4                   Science and engineering women    become major   \n",
              "3   5                                NPO organization  be established   \n",
              "4   9                                     The Society  become diverse   \n",
              "\n",
              "            x           y  \\\n",
              "0  327.000000  310.999631   \n",
              "1  491.999987  436.999468   \n",
              "2  630.000004  321.999160   \n",
              "3  674.999981  691.000487   \n",
              "4  471.000000   22.000000   \n",
              "\n",
              "                                                  sentence  neg   neu   pos  \\\n",
              "0      Being a science and engineering woman become normal  0.0  1.00  0.00   \n",
              "1  the number of women in science and engineering Increase  0.0  0.66  0.34   \n",
              "2               Science and engineering women become major  0.0  1.00  0.00   \n",
              "3                          NPO organization be established  0.0  1.00  0.00   \n",
              "4                               The Society become diverse  0.0  1.00  0.00   \n",
              "\n",
              "   compound  \n",
              "0    0.0000  \n",
              "1    0.3818  \n",
              "2    0.0000  \n",
              "3    0.0000  \n",
              "4    0.0000  "
            ]
          },
          "execution_count": 277,
          "metadata": {},
          "output_type": "execute_result"
        }
      ],
      "source": [
        "df_all.head()"
      ]
    },
    {
      "cell_type": "code",
      "execution_count": 261,
      "metadata": {},
      "outputs": [],
      "source": [
        "score = df_all['score']"
      ]
    },
    {
      "cell_type": "code",
      "execution_count": 262,
      "metadata": {},
      "outputs": [
        {
          "data": {
            "image/png": "[encoded data removed]",
            "text/plain": [
              "<Figure size 640x480 with 1 Axes>"
            ]
          },
          "metadata": {},
          "output_type": "display_data"
        }
      ],
      "source": [
        "import matplotlib.pyplot as plt\n",
        "y = [0 for i in range(len(df_all))]\n",
        "plt.scatter(score, y)\n",
        "plt.show()"
      ]
    },
    {
      "cell_type": "code",
      "execution_count": 263,
      "metadata": {},
      "outputs": [],
      "source": [
        "score_sq =df_all['sqrt']\n",
        "# score_sq"
      ]
    },
    {
      "cell_type": "code",
      "execution_count": 264,
      "metadata": {},
      "outputs": [
        {
          "data": {
            "image/png": "[encoded data removed]",
            "text/plain": [
              "<Figure size 640x480 with 1 Axes>"
            ]
          },
          "metadata": {},
          "output_type": "display_data"
        }
      ],
      "source": [
        "import matplotlib.pyplot as plt\n",
        "y = [0 for i in range(len(df_all))]\n",
        "plt.scatter(score_sq, y)\n",
        "plt.show()"
      ]
    },
    {
      "attachments": {},
      "cell_type": "markdown",
      "metadata": {},
      "source": [
        "## Text Blobによるネガポジ判定\n",
        "https://www.analyticsvidhya.com/blog/2022/07/sentiment-analysis-using-python/"
      ]
    },
    {
      "cell_type": "code",
      "execution_count": 265,
      "metadata": {},
      "outputs": [
        {
          "name": "stdout",
          "output_type": "stream",
          "text": [
            "Requirement already satisfied: textblob in c:\\users\\so030\\appdata\\local\\packages\\pythonsoftwarefoundation.python.3.10_qbz5n2kfra8p0\\localcache\\local-packages\\python310\\site-packages (0.17.1)\n",
            "Requirement already satisfied: nltk>=3.1 in c:\\users\\so030\\appdata\\local\\packages\\pythonsoftwarefoundation.python.3.10_qbz5n2kfra8p0\\localcache\\local-packages\\python310\\site-packages (from textblob) (3.8.1)\n",
            "Requirement already satisfied: tqdm in c:\\users\\so030\\appdata\\local\\packages\\pythonsoftwarefoundation.python.3.10_qbz5n2kfra8p0\\localcache\\local-packages\\python310\\site-packages (from nltk>=3.1->textblob) (4.64.1)\n",
            "Requirement already satisfied: click in c:\\users\\so030\\appdata\\local\\packages\\pythonsoftwarefoundation.python.3.10_qbz5n2kfra8p0\\localcache\\local-packages\\python310\\site-packages (from nltk>=3.1->textblob) (8.1.3)\n",
            "Requirement already satisfied: regex>=2021.8.3 in c:\\users\\so030\\appdata\\local\\packages\\pythonsoftwarefoundation.python.3.10_qbz5n2kfra8p0\\localcache\\local-packages\\python310\\site-packages (from nltk>=3.1->textblob) (2023.3.23)\n",
            "Requirement already satisfied: joblib in c:\\users\\so030\\appdata\\local\\packages\\pythonsoftwarefoundation.python.3.10_qbz5n2kfra8p0\\localcache\\local-packages\\python310\\site-packages (from nltk>=3.1->textblob) (1.2.0)\n",
            "Requirement already satisfied: colorama in c:\\users\\so030\\appdata\\local\\packages\\pythonsoftwarefoundation.python.3.10_qbz5n2kfra8p0\\localcache\\local-packages\\python310\\site-packages (from click->nltk>=3.1->textblob) (0.4.6)\n",
            "Note: you may need to restart the kernel to use updated packages.\n"
          ]
        },
        {
          "name": "stderr",
          "output_type": "stream",
          "text": [
            "\n",
            "[notice] A new release of pip is available: 23.0.1 -> 23.1.1\n",
            "[notice] To update, run: C:\\Users\\so030\\AppData\\Local\\Microsoft\\WindowsApps\\PythonSoftwareFoundation.Python.3.10_qbz5n2kfra8p0\\python.exe -m pip install --upgrade pip\n"
          ]
        }
      ],
      "source": [
        "%pip install textblob"
      ]
    },
    {
      "cell_type": "code",
      "execution_count": 266,
      "metadata": {},
      "outputs": [
        {
          "name": "stdout",
          "output_type": "stream",
          "text": [
            "Polarity of Text 1 is 1.0\n",
            "Polarity of Text 2 is -1.0\n",
            "Subjectivity of Text 1 is 1.0\n",
            "Subjectivity of Text 2 is 1.0\n"
          ]
        }
      ],
      "source": [
        "# sample\n",
        "\n",
        "from textblob import TextBlob\n",
        "\n",
        "text_1 = \"The movie was so awesome.\"\n",
        "text_2 = \"The food here tastes terrible.\"\n",
        "\n",
        "#Determining the Polarity \n",
        "p_1 = TextBlob(text_1).sentiment.polarity\n",
        "p_2 = TextBlob(text_2).sentiment.polarity\n",
        "\n",
        "#Determining the Subjectivity\n",
        "s_1 = TextBlob(text_1).sentiment.subjectivity\n",
        "s_2 = TextBlob(text_2).sentiment.subjectivity\n",
        "\n",
        "print(\"Polarity of Text 1 is\", p_1)\n",
        "print(\"Polarity of Text 2 is\", p_2)\n",
        "print(\"Subjectivity of Text 1 is\", s_1)\n",
        "print(\"Subjectivity of Text 2 is\", s_2)"
      ]
    },
    {
      "cell_type": "code",
      "execution_count": 267,
      "metadata": {},
      "outputs": [],
      "source": [
        "polarity = []\n",
        "subj = []\n",
        "\n",
        "for i in range(len(sent)):\n",
        "    polarity.append(TextBlob(sent[i]).sentiment.polarity)\n",
        "    subj.append(TextBlob(sent[i]).sentiment.subjectivity)"
      ]
    },
    {
      "cell_type": "code",
      "execution_count": 268,
      "metadata": {},
      "outputs": [
        {
          "data": {
            "text/html": [
              "<div>\n",
              "<style scoped>\n",
              "    .dataframe tbody tr th:only-of-type {\n",
              "        vertical-align: middle;\n",
              "    }\n",
              "\n",
              "    .dataframe tbody tr th {\n",
              "        vertical-align: top;\n",
              "    }\n",
              "\n",
              "    .dataframe thead th {\n",
              "        text-align: right;\n",
              "    }\n",
              "</style>\n",
              "<table border=\"1\" class=\"dataframe\">\n",
              "  <thead>\n",
              "    <tr style=\"text-align: right;\">\n",
              "      <th></th>\n",
              "      <th>id</th>\n",
              "      <th>fT</th>\n",
              "      <th>sT</th>\n",
              "      <th>x</th>\n",
              "      <th>y</th>\n",
              "      <th>sentence</th>\n",
              "      <th>polarity</th>\n",
              "      <th>subjectivity</th>\n",
              "    </tr>\n",
              "  </thead>\n",
              "  <tbody>\n",
              "    <tr>\n",
              "      <th>0</th>\n",
              "      <td>2</td>\n",
              "      <td>Being a science and engineering woman</td>\n",
              "      <td>become normal</td>\n",
              "      <td>327.000000</td>\n",
              "      <td>310.999631</td>\n",
              "      <td>Being a science and engineering woman become normal</td>\n",
              "      <td>0.1500</td>\n",
              "      <td>0.65</td>\n",
              "    </tr>\n",
              "    <tr>\n",
              "      <th>1</th>\n",
              "      <td>3</td>\n",
              "      <td>the number of women in science and engineering</td>\n",
              "      <td>Increase</td>\n",
              "      <td>491.999987</td>\n",
              "      <td>436.999468</td>\n",
              "      <td>the number of women in science and engineering Increase</td>\n",
              "      <td>0.0000</td>\n",
              "      <td>0.00</td>\n",
              "    </tr>\n",
              "    <tr>\n",
              "      <th>2</th>\n",
              "      <td>4</td>\n",
              "      <td>Science and engineering women</td>\n",
              "      <td>become major</td>\n",
              "      <td>630.000004</td>\n",
              "      <td>321.999160</td>\n",
              "      <td>Science and engineering women become major</td>\n",
              "      <td>0.0625</td>\n",
              "      <td>0.50</td>\n",
              "    </tr>\n",
              "    <tr>\n",
              "      <th>3</th>\n",
              "      <td>5</td>\n",
              "      <td>NPO organization</td>\n",
              "      <td>be established</td>\n",
              "      <td>674.999981</td>\n",
              "      <td>691.000487</td>\n",
              "      <td>NPO organization be established</td>\n",
              "      <td>0.0000</td>\n",
              "      <td>0.00</td>\n",
              "    </tr>\n",
              "    <tr>\n",
              "      <th>4</th>\n",
              "      <td>9</td>\n",
              "      <td>The Society</td>\n",
              "      <td>become diverse</td>\n",
              "      <td>471.000000</td>\n",
              "      <td>22.000000</td>\n",
              "      <td>The Society become diverse</td>\n",
              "      <td>0.0000</td>\n",
              "      <td>0.00</td>\n",
              "    </tr>\n",
              "  </tbody>\n",
              "</table>\n",
              "</div>"
            ],
            "text/plain": [
              "   id                                              fT              sT  \\\n",
              "0   2           Being a science and engineering woman   become normal   \n",
              "1   3  the number of women in science and engineering        Increase   \n",
              "2   4                   Science and engineering women    become major   \n",
              "3   5                                NPO organization  be established   \n",
              "4   9                                     The Society  become diverse   \n",
              "\n",
              "            x           y  \\\n",
              "0  327.000000  310.999631   \n",
              "1  491.999987  436.999468   \n",
              "2  630.000004  321.999160   \n",
              "3  674.999981  691.000487   \n",
              "4  471.000000   22.000000   \n",
              "\n",
              "                                                  sentence  polarity  \\\n",
              "0      Being a science and engineering woman become normal    0.1500   \n",
              "1  the number of women in science and engineering Increase    0.0000   \n",
              "2               Science and engineering women become major    0.0625   \n",
              "3                          NPO organization be established    0.0000   \n",
              "4                               The Society become diverse    0.0000   \n",
              "\n",
              "   subjectivity  \n",
              "0          0.65  \n",
              "1          0.00  \n",
              "2          0.50  \n",
              "3          0.00  \n",
              "4          0.00  "
            ]
          },
          "execution_count": 268,
          "metadata": {},
          "output_type": "execute_result"
        }
      ],
      "source": [
        "df['sentence'] = df['fT'] + ' ' + df['sT']\n",
        "a = pd.DataFrame({'polarity': polarity, 'subjectivity': subj})\n",
        "df_all = pd.concat([df, a], axis=1)\n",
        "df_all.head()"
      ]
    },
    {
      "cell_type": "code",
      "execution_count": 269,
      "metadata": {},
      "outputs": [
        {
          "data": {
            "text/html": [
              "<div>\n",
              "<style scoped>\n",
              "    .dataframe tbody tr th:only-of-type {\n",
              "        vertical-align: middle;\n",
              "    }\n",
              "\n",
              "    .dataframe tbody tr th {\n",
              "        vertical-align: top;\n",
              "    }\n",
              "\n",
              "    .dataframe thead th {\n",
              "        text-align: right;\n",
              "    }\n",
              "</style>\n",
              "<table border=\"1\" class=\"dataframe\">\n",
              "  <thead>\n",
              "    <tr style=\"text-align: right;\">\n",
              "      <th></th>\n",
              "      <th>sentence</th>\n",
              "      <th>polarity</th>\n",
              "      <th>subjectivity</th>\n",
              "    </tr>\n",
              "  </thead>\n",
              "  <tbody>\n",
              "    <tr>\n",
              "      <th>0</th>\n",
              "      <td>Being a science and engineering woman become normal</td>\n",
              "      <td>0.150000</td>\n",
              "      <td>0.650000</td>\n",
              "    </tr>\n",
              "    <tr>\n",
              "      <th>1</th>\n",
              "      <td>the number of women in science and engineering Increase</td>\n",
              "      <td>0.000000</td>\n",
              "      <td>0.000000</td>\n",
              "    </tr>\n",
              "    <tr>\n",
              "      <th>2</th>\n",
              "      <td>Science and engineering women become major</td>\n",
              "      <td>0.062500</td>\n",
              "      <td>0.500000</td>\n",
              "    </tr>\n",
              "    <tr>\n",
              "      <th>3</th>\n",
              "      <td>NPO organization be established</td>\n",
              "      <td>0.000000</td>\n",
              "      <td>0.000000</td>\n",
              "    </tr>\n",
              "    <tr>\n",
              "      <th>4</th>\n",
              "      <td>The Society become diverse</td>\n",
              "      <td>0.000000</td>\n",
              "      <td>0.000000</td>\n",
              "    </tr>\n",
              "    <tr>\n",
              "      <th>5</th>\n",
              "      <td>science and engineering women Proud to be a science and engineering woman</td>\n",
              "      <td>0.800000</td>\n",
              "      <td>1.000000</td>\n",
              "    </tr>\n",
              "    <tr>\n",
              "      <th>6</th>\n",
              "      <td>the number of role models for women in science and technology increase</td>\n",
              "      <td>0.000000</td>\n",
              "      <td>0.000000</td>\n",
              "    </tr>\n",
              "    <tr>\n",
              "      <th>7</th>\n",
              "      <td>Science and engineering women can live as themselves</td>\n",
              "      <td>0.136364</td>\n",
              "      <td>0.500000</td>\n",
              "    </tr>\n",
              "    <tr>\n",
              "      <th>8</th>\n",
              "      <td>Aspiring people gather friends</td>\n",
              "      <td>0.000000</td>\n",
              "      <td>0.000000</td>\n",
              "    </tr>\n",
              "    <tr>\n",
              "      <th>9</th>\n",
              "      <td>events for middle and high school girls organized</td>\n",
              "      <td>0.080000</td>\n",
              "      <td>0.270000</td>\n",
              "    </tr>\n",
              "    <tr>\n",
              "      <th>10</th>\n",
              "      <td>JST Invites Applications for Programs for Female Junior High and High School Students</td>\n",
              "      <td>0.106667</td>\n",
              "      <td>0.415556</td>\n",
              "    </tr>\n",
              "    <tr>\n",
              "      <th>11</th>\n",
              "      <td>A society embraces diversity</td>\n",
              "      <td>0.000000</td>\n",
              "      <td>0.000000</td>\n",
              "    </tr>\n",
              "    <tr>\n",
              "      <th>12</th>\n",
              "      <td>A society in which everyone can thrive can be realized</td>\n",
              "      <td>0.000000</td>\n",
              "      <td>0.000000</td>\n",
              "    </tr>\n",
              "    <tr>\n",
              "      <th>13</th>\n",
              "      <td>Unconscious bias prevails</td>\n",
              "      <td>0.000000</td>\n",
              "      <td>0.000000</td>\n",
              "    </tr>\n",
              "    <tr>\n",
              "      <th>14</th>\n",
              "      <td>The need to raise funds on our own emerge</td>\n",
              "      <td>0.600000</td>\n",
              "      <td>1.000000</td>\n",
              "    </tr>\n",
              "    <tr>\n",
              "      <th>15</th>\n",
              "      <td>Science and engineering women remain minor</td>\n",
              "      <td>-0.050000</td>\n",
              "      <td>0.200000</td>\n",
              "    </tr>\n",
              "    <tr>\n",
              "      <th>16</th>\n",
              "      <td>Women are said not suited for science.</td>\n",
              "      <td>0.000000</td>\n",
              "      <td>0.000000</td>\n",
              "    </tr>\n",
              "    <tr>\n",
              "      <th>17</th>\n",
              "      <td>Parents and teachers promote liberal arts to female middle and high school students.</td>\n",
              "      <td>0.053333</td>\n",
              "      <td>0.235556</td>\n",
              "    </tr>\n",
              "    <tr>\n",
              "      <th>18</th>\n",
              "      <td>the number of women in science and engineering remain to be low</td>\n",
              "      <td>0.000000</td>\n",
              "      <td>0.300000</td>\n",
              "    </tr>\n",
              "    <tr>\n",
              "      <th>19</th>\n",
              "      <td>Young girls internalize the stereotype</td>\n",
              "      <td>0.100000</td>\n",
              "      <td>0.400000</td>\n",
              "    </tr>\n",
              "    <tr>\n",
              "      <th>20</th>\n",
              "      <td>NPO organization work towards breaking the stereotype</td>\n",
              "      <td>0.000000</td>\n",
              "      <td>0.000000</td>\n",
              "    </tr>\n",
              "    <tr>\n",
              "      <th>21</th>\n",
              "      <td>Young girls get knowledge about wrong stereotypes</td>\n",
              "      <td>-0.200000</td>\n",
              "      <td>0.650000</td>\n",
              "    </tr>\n",
              "    <tr>\n",
              "      <th>22</th>\n",
              "      <td>Young girls do not hesitate to aim for STEM area</td>\n",
              "      <td>0.100000</td>\n",
              "      <td>0.400000</td>\n",
              "    </tr>\n",
              "    <tr>\n",
              "      <th>23</th>\n",
              "      <td>Science be associated with men</td>\n",
              "      <td>0.000000</td>\n",
              "      <td>0.000000</td>\n",
              "    </tr>\n",
              "    <tr>\n",
              "      <th>24</th>\n",
              "      <td>Women be assiciated with care and domestic work</td>\n",
              "      <td>0.000000</td>\n",
              "      <td>0.100000</td>\n",
              "    </tr>\n",
              "    <tr>\n",
              "      <th>25</th>\n",
              "      <td>The need for support in child care emerge</td>\n",
              "      <td>0.000000</td>\n",
              "      <td>0.000000</td>\n",
              "    </tr>\n",
              "    <tr>\n",
              "      <th>26</th>\n",
              "      <td>NPO organization works to improve the working environment for women in STEM</td>\n",
              "      <td>0.000000</td>\n",
              "      <td>0.000000</td>\n",
              "    </tr>\n",
              "  </tbody>\n",
              "</table>\n",
              "</div>"
            ],
            "text/plain": [
              "                                                                                 sentence  \\\n",
              "0                                     Being a science and engineering woman become normal   \n",
              "1                                 the number of women in science and engineering Increase   \n",
              "2                                              Science and engineering women become major   \n",
              "3                                                         NPO organization be established   \n",
              "4                                                              The Society become diverse   \n",
              "5               science and engineering women Proud to be a science and engineering woman   \n",
              "6                  the number of role models for women in science and technology increase   \n",
              "7                                    Science and engineering women can live as themselves   \n",
              "8                                                          Aspiring people gather friends   \n",
              "9                                       events for middle and high school girls organized   \n",
              "10  JST Invites Applications for Programs for Female Junior High and High School Students   \n",
              "11                                                           A society embraces diversity   \n",
              "12                                 A society in which everyone can thrive can be realized   \n",
              "13                                                              Unconscious bias prevails   \n",
              "14                                              The need to raise funds on our own emerge   \n",
              "15                                             Science and engineering women remain minor   \n",
              "16                                                 Women are said not suited for science.   \n",
              "17   Parents and teachers promote liberal arts to female middle and high school students.   \n",
              "18                        the number of women in science and engineering remain to be low   \n",
              "19                                                 Young girls internalize the stereotype   \n",
              "20                                  NPO organization work towards breaking the stereotype   \n",
              "21                                      Young girls get knowledge about wrong stereotypes   \n",
              "22                                       Young girls do not hesitate to aim for STEM area   \n",
              "23                                                         Science be associated with men   \n",
              "24                                        Women be assiciated with care and domestic work   \n",
              "25                                              The need for support in child care emerge   \n",
              "26            NPO organization works to improve the working environment for women in STEM   \n",
              "\n",
              "    polarity  subjectivity  \n",
              "0   0.150000      0.650000  \n",
              "1   0.000000      0.000000  \n",
              "2   0.062500      0.500000  \n",
              "3   0.000000      0.000000  \n",
              "4   0.000000      0.000000  \n",
              "5   0.800000      1.000000  \n",
              "6   0.000000      0.000000  \n",
              "7   0.136364      0.500000  \n",
              "8   0.000000      0.000000  \n",
              "9   0.080000      0.270000  \n",
              "10  0.106667      0.415556  \n",
              "11  0.000000      0.000000  \n",
              "12  0.000000      0.000000  \n",
              "13  0.000000      0.000000  \n",
              "14  0.600000      1.000000  \n",
              "15 -0.050000      0.200000  \n",
              "16  0.000000      0.000000  \n",
              "17  0.053333      0.235556  \n",
              "18  0.000000      0.300000  \n",
              "19  0.100000      0.400000  \n",
              "20  0.000000      0.000000  \n",
              "21 -0.200000      0.650000  \n",
              "22  0.100000      0.400000  \n",
              "23  0.000000      0.000000  \n",
              "24  0.000000      0.100000  \n",
              "25  0.000000      0.000000  \n",
              "26  0.000000      0.000000  "
            ]
          },
          "execution_count": 269,
          "metadata": {},
          "output_type": "execute_result"
        }
      ],
      "source": [
        "df_all.iloc[:, -3:]"
      ]
    },
    {
      "cell_type": "code",
      "execution_count": 270,
      "metadata": {},
      "outputs": [
        {
          "data": {
            "text/plain": [
              "<matplotlib.collections.PathCollection at 0x2aadb5dc400>"
            ]
          },
          "execution_count": 270,
          "metadata": {},
          "output_type": "execute_result"
        },
        {
          "data": {
            "image/png": "[encoded data removed]",
            "text/plain": [
              "<Figure size 640x480 with 1 Axes>"
            ]
          },
          "metadata": {},
          "output_type": "display_data"
        }
      ],
      "source": [
        "plt.scatter(polarity, y)"
      ]
    },
    {
      "attachments": {},
      "cell_type": "markdown",
      "metadata": {},
      "source": [
        "## VADERによるネガポジ判定"
      ]
    },
    {
      "cell_type": "code",
      "execution_count": 271,
      "metadata": {},
      "outputs": [
        {
          "name": "stdout",
          "output_type": "stream",
          "text": [
            "Requirement already satisfied: vaderSentiment in c:\\users\\so030\\appdata\\local\\packages\\pythonsoftwarefoundation.python.3.10_qbz5n2kfra8p0\\localcache\\local-packages\\python310\\site-packages (3.3.2)\n",
            "Requirement already satisfied: requests in c:\\users\\so030\\appdata\\local\\packages\\pythonsoftwarefoundation.python.3.10_qbz5n2kfra8p0\\localcache\\local-packages\\python310\\site-packages (from vaderSentiment) (2.28.1)\n",
            "Requirement already satisfied: idna<4,>=2.5 in c:\\users\\so030\\appdata\\local\\packages\\pythonsoftwarefoundation.python.3.10_qbz5n2kfra8p0\\localcache\\local-packages\\python310\\site-packages (from requests->vaderSentiment) (3.4)\n",
            "Requirement already satisfied: charset-normalizer<3,>=2 in c:\\users\\so030\\appdata\\local\\packages\\pythonsoftwarefoundation.python.3.10_qbz5n2kfra8p0\\localcache\\local-packages\\python310\\site-packages (from requests->vaderSentiment) (2.1.1)\n",
            "Requirement already satisfied: certifi>=2017.4.17 in c:\\users\\so030\\appdata\\local\\packages\\pythonsoftwarefoundation.python.3.10_qbz5n2kfra8p0\\localcache\\local-packages\\python310\\site-packages (from requests->vaderSentiment) (2022.9.24)\n",
            "Requirement already satisfied: urllib3<1.27,>=1.21.1 in c:\\users\\so030\\appdata\\local\\packages\\pythonsoftwarefoundation.python.3.10_qbz5n2kfra8p0\\localcache\\local-packages\\python310\\site-packages (from requests->vaderSentiment) (1.26.13)\n",
            "Note: you may need to restart the kernel to use updated packages.\n"
          ]
        },
        {
          "name": "stderr",
          "output_type": "stream",
          "text": [
            "\n",
            "[notice] A new release of pip is available: 23.0.1 -> 23.1.1\n",
            "[notice] To update, run: C:\\Users\\so030\\AppData\\Local\\Microsoft\\WindowsApps\\PythonSoftwareFoundation.Python.3.10_qbz5n2kfra8p0\\python.exe -m pip install --upgrade pip\n"
          ]
        }
      ],
      "source": [
        "%pip install vaderSentiment"
      ]
    },
    {
      "cell_type": "code",
      "execution_count": 272,
      "metadata": {},
      "outputs": [
        {
          "name": "stdout",
          "output_type": "stream",
          "text": [
            "Sentiment of text 1: {'neg': 0.0, 'neu': 0.73, 'pos': 0.27, 'compound': 0.5719}\n",
            "Sentiment of text 2: {'neg': 0.508, 'neu': 0.492, 'pos': 0.0, 'compound': -0.4767}\n"
          ]
        }
      ],
      "source": [
        "# sample\n",
        "\n",
        "from vaderSentiment.vaderSentiment import SentimentIntensityAnalyzer\n",
        "\n",
        "sentiment = SentimentIntensityAnalyzer()\n",
        "text_1 = \"The book was a perfect balance between wrtiting style and plot.\"\n",
        "text_2 =  \"The pizza tastes terrible.\"\n",
        "sent_1 = sentiment.polarity_scores(text_1)\n",
        "sent_2 = sentiment.polarity_scores(text_2)\n",
        "print(\"Sentiment of text 1:\", sent_1)\n",
        "print(\"Sentiment of text 2:\", sent_2)"
      ]
    },
    {
      "cell_type": "code",
      "execution_count": 273,
      "metadata": {},
      "outputs": [
        {
          "data": {
            "text/html": [
              "<div>\n",
              "<style scoped>\n",
              "    .dataframe tbody tr th:only-of-type {\n",
              "        vertical-align: middle;\n",
              "    }\n",
              "\n",
              "    .dataframe tbody tr th {\n",
              "        vertical-align: top;\n",
              "    }\n",
              "\n",
              "    .dataframe thead th {\n",
              "        text-align: right;\n",
              "    }\n",
              "</style>\n",
              "<table border=\"1\" class=\"dataframe\">\n",
              "  <thead>\n",
              "    <tr style=\"text-align: right;\">\n",
              "      <th></th>\n",
              "      <th>neg</th>\n",
              "      <th>neu</th>\n",
              "      <th>pos</th>\n",
              "      <th>compound</th>\n",
              "    </tr>\n",
              "  </thead>\n",
              "  <tbody>\n",
              "    <tr>\n",
              "      <th>0</th>\n",
              "      <td>0.0</td>\n",
              "      <td>1.00</td>\n",
              "      <td>0.00</td>\n",
              "      <td>0.0000</td>\n",
              "    </tr>\n",
              "    <tr>\n",
              "      <th>1</th>\n",
              "      <td>0.0</td>\n",
              "      <td>0.66</td>\n",
              "      <td>0.34</td>\n",
              "      <td>0.3818</td>\n",
              "    </tr>\n",
              "    <tr>\n",
              "      <th>2</th>\n",
              "      <td>0.0</td>\n",
              "      <td>1.00</td>\n",
              "      <td>0.00</td>\n",
              "      <td>0.0000</td>\n",
              "    </tr>\n",
              "    <tr>\n",
              "      <th>3</th>\n",
              "      <td>0.0</td>\n",
              "      <td>1.00</td>\n",
              "      <td>0.00</td>\n",
              "      <td>0.0000</td>\n",
              "    </tr>\n",
              "    <tr>\n",
              "      <th>4</th>\n",
              "      <td>0.0</td>\n",
              "      <td>1.00</td>\n",
              "      <td>0.00</td>\n",
              "      <td>0.0000</td>\n",
              "    </tr>\n",
              "  </tbody>\n",
              "</table>\n",
              "</div>"
            ],
            "text/plain": [
              "   neg   neu   pos  compound\n",
              "0  0.0  1.00  0.00    0.0000\n",
              "1  0.0  0.66  0.34    0.3818\n",
              "2  0.0  1.00  0.00    0.0000\n",
              "3  0.0  1.00  0.00    0.0000\n",
              "4  0.0  1.00  0.00    0.0000"
            ]
          },
          "execution_count": 273,
          "metadata": {},
          "output_type": "execute_result"
        }
      ],
      "source": [
        "vader = []\n",
        "\n",
        "for i in range(len(sent)):\n",
        "    vader.append(sentiment.polarity_scores(sent[i]))\n",
        "\n",
        "vad = pd.DataFrame(vader)\n",
        "vad.head()"
      ]
    },
    {
      "cell_type": "code",
      "execution_count": 274,
      "metadata": {},
      "outputs": [
        {
          "data": {
            "text/html": [
              "<div>\n",
              "<style scoped>\n",
              "    .dataframe tbody tr th:only-of-type {\n",
              "        vertical-align: middle;\n",
              "    }\n",
              "\n",
              "    .dataframe tbody tr th {\n",
              "        vertical-align: top;\n",
              "    }\n",
              "\n",
              "    .dataframe thead th {\n",
              "        text-align: right;\n",
              "    }\n",
              "</style>\n",
              "<table border=\"1\" class=\"dataframe\">\n",
              "  <thead>\n",
              "    <tr style=\"text-align: right;\">\n",
              "      <th></th>\n",
              "      <th>sentence</th>\n",
              "      <th>neg</th>\n",
              "      <th>neu</th>\n",
              "      <th>pos</th>\n",
              "      <th>compound</th>\n",
              "    </tr>\n",
              "  </thead>\n",
              "  <tbody>\n",
              "    <tr>\n",
              "      <th>0</th>\n",
              "      <td>Being a science and engineering woman become normal</td>\n",
              "      <td>0.000</td>\n",
              "      <td>1.000</td>\n",
              "      <td>0.000</td>\n",
              "      <td>0.0000</td>\n",
              "    </tr>\n",
              "    <tr>\n",
              "      <th>1</th>\n",
              "      <td>the number of women in science and engineering Increase</td>\n",
              "      <td>0.000</td>\n",
              "      <td>0.660</td>\n",
              "      <td>0.340</td>\n",
              "      <td>0.3818</td>\n",
              "    </tr>\n",
              "    <tr>\n",
              "      <th>2</th>\n",
              "      <td>Science and engineering women become major</td>\n",
              "      <td>0.000</td>\n",
              "      <td>1.000</td>\n",
              "      <td>0.000</td>\n",
              "      <td>0.0000</td>\n",
              "    </tr>\n",
              "    <tr>\n",
              "      <th>3</th>\n",
              "      <td>NPO organization be established</td>\n",
              "      <td>0.000</td>\n",
              "      <td>1.000</td>\n",
              "      <td>0.000</td>\n",
              "      <td>0.0000</td>\n",
              "    </tr>\n",
              "    <tr>\n",
              "      <th>4</th>\n",
              "      <td>The Society become diverse</td>\n",
              "      <td>0.000</td>\n",
              "      <td>1.000</td>\n",
              "      <td>0.000</td>\n",
              "      <td>0.0000</td>\n",
              "    </tr>\n",
              "    <tr>\n",
              "      <th>5</th>\n",
              "      <td>science and engineering women Proud to be a science and engineering woman</td>\n",
              "      <td>0.000</td>\n",
              "      <td>0.780</td>\n",
              "      <td>0.220</td>\n",
              "      <td>0.4767</td>\n",
              "    </tr>\n",
              "    <tr>\n",
              "      <th>6</th>\n",
              "      <td>the number of role models for women in science and technology increase</td>\n",
              "      <td>0.000</td>\n",
              "      <td>0.735</td>\n",
              "      <td>0.265</td>\n",
              "      <td>0.3818</td>\n",
              "    </tr>\n",
              "    <tr>\n",
              "      <th>7</th>\n",
              "      <td>Science and engineering women can live as themselves</td>\n",
              "      <td>0.000</td>\n",
              "      <td>1.000</td>\n",
              "      <td>0.000</td>\n",
              "      <td>0.0000</td>\n",
              "    </tr>\n",
              "    <tr>\n",
              "      <th>8</th>\n",
              "      <td>Aspiring people gather friends</td>\n",
              "      <td>0.000</td>\n",
              "      <td>0.492</td>\n",
              "      <td>0.508</td>\n",
              "      <td>0.4767</td>\n",
              "    </tr>\n",
              "    <tr>\n",
              "      <th>9</th>\n",
              "      <td>events for middle and high school girls organized</td>\n",
              "      <td>0.000</td>\n",
              "      <td>1.000</td>\n",
              "      <td>0.000</td>\n",
              "      <td>0.0000</td>\n",
              "    </tr>\n",
              "    <tr>\n",
              "      <th>10</th>\n",
              "      <td>JST Invites Applications for Programs for Female Junior High and High School Students</td>\n",
              "      <td>0.000</td>\n",
              "      <td>1.000</td>\n",
              "      <td>0.000</td>\n",
              "      <td>0.0000</td>\n",
              "    </tr>\n",
              "    <tr>\n",
              "      <th>11</th>\n",
              "      <td>A society embraces diversity</td>\n",
              "      <td>0.000</td>\n",
              "      <td>1.000</td>\n",
              "      <td>0.000</td>\n",
              "      <td>0.0000</td>\n",
              "    </tr>\n",
              "    <tr>\n",
              "      <th>12</th>\n",
              "      <td>A society in which everyone can thrive can be realized</td>\n",
              "      <td>0.000</td>\n",
              "      <td>1.000</td>\n",
              "      <td>0.000</td>\n",
              "      <td>0.0000</td>\n",
              "    </tr>\n",
              "    <tr>\n",
              "      <th>13</th>\n",
              "      <td>Unconscious bias prevails</td>\n",
              "      <td>0.412</td>\n",
              "      <td>0.588</td>\n",
              "      <td>0.000</td>\n",
              "      <td>-0.1027</td>\n",
              "    </tr>\n",
              "    <tr>\n",
              "      <th>14</th>\n",
              "      <td>The need to raise funds on our own emerge</td>\n",
              "      <td>0.000</td>\n",
              "      <td>1.000</td>\n",
              "      <td>0.000</td>\n",
              "      <td>0.0000</td>\n",
              "    </tr>\n",
              "    <tr>\n",
              "      <th>15</th>\n",
              "      <td>Science and engineering women remain minor</td>\n",
              "      <td>0.000</td>\n",
              "      <td>1.000</td>\n",
              "      <td>0.000</td>\n",
              "      <td>0.0000</td>\n",
              "    </tr>\n",
              "    <tr>\n",
              "      <th>16</th>\n",
              "      <td>Women are said not suited for science.</td>\n",
              "      <td>0.000</td>\n",
              "      <td>1.000</td>\n",
              "      <td>0.000</td>\n",
              "      <td>0.0000</td>\n",
              "    </tr>\n",
              "    <tr>\n",
              "      <th>17</th>\n",
              "      <td>Parents and teachers promote liberal arts to female middle and high school students.</td>\n",
              "      <td>0.000</td>\n",
              "      <td>0.822</td>\n",
              "      <td>0.178</td>\n",
              "      <td>0.3818</td>\n",
              "    </tr>\n",
              "    <tr>\n",
              "      <th>18</th>\n",
              "      <td>the number of women in science and engineering remain to be low</td>\n",
              "      <td>0.157</td>\n",
              "      <td>0.746</td>\n",
              "      <td>0.097</td>\n",
              "      <td>-0.2023</td>\n",
              "    </tr>\n",
              "    <tr>\n",
              "      <th>19</th>\n",
              "      <td>Young girls internalize the stereotype</td>\n",
              "      <td>0.365</td>\n",
              "      <td>0.635</td>\n",
              "      <td>0.000</td>\n",
              "      <td>-0.3182</td>\n",
              "    </tr>\n",
              "    <tr>\n",
              "      <th>20</th>\n",
              "      <td>NPO organization work towards breaking the stereotype</td>\n",
              "      <td>0.277</td>\n",
              "      <td>0.723</td>\n",
              "      <td>0.000</td>\n",
              "      <td>-0.3182</td>\n",
              "    </tr>\n",
              "    <tr>\n",
              "      <th>21</th>\n",
              "      <td>Young girls get knowledge about wrong stereotypes</td>\n",
              "      <td>0.341</td>\n",
              "      <td>0.659</td>\n",
              "      <td>0.000</td>\n",
              "      <td>-0.4767</td>\n",
              "    </tr>\n",
              "    <tr>\n",
              "      <th>22</th>\n",
              "      <td>Young girls do not hesitate to aim for STEM area</td>\n",
              "      <td>0.000</td>\n",
              "      <td>0.832</td>\n",
              "      <td>0.168</td>\n",
              "      <td>0.2057</td>\n",
              "    </tr>\n",
              "    <tr>\n",
              "      <th>23</th>\n",
              "      <td>Science be associated with men</td>\n",
              "      <td>0.000</td>\n",
              "      <td>1.000</td>\n",
              "      <td>0.000</td>\n",
              "      <td>0.0000</td>\n",
              "    </tr>\n",
              "    <tr>\n",
              "      <th>24</th>\n",
              "      <td>Women be assiciated with care and domestic work</td>\n",
              "      <td>0.000</td>\n",
              "      <td>0.686</td>\n",
              "      <td>0.314</td>\n",
              "      <td>0.4939</td>\n",
              "    </tr>\n",
              "    <tr>\n",
              "      <th>25</th>\n",
              "      <td>The need for support in child care emerge</td>\n",
              "      <td>0.000</td>\n",
              "      <td>0.504</td>\n",
              "      <td>0.496</td>\n",
              "      <td>0.7096</td>\n",
              "    </tr>\n",
              "    <tr>\n",
              "      <th>26</th>\n",
              "      <td>NPO organization works to improve the working environment for women in STEM</td>\n",
              "      <td>0.000</td>\n",
              "      <td>0.791</td>\n",
              "      <td>0.209</td>\n",
              "      <td>0.4404</td>\n",
              "    </tr>\n",
              "  </tbody>\n",
              "</table>\n",
              "</div>"
            ],
            "text/plain": [
              "                                                                                 sentence  \\\n",
              "0                                     Being a science and engineering woman become normal   \n",
              "1                                 the number of women in science and engineering Increase   \n",
              "2                                              Science and engineering women become major   \n",
              "3                                                         NPO organization be established   \n",
              "4                                                              The Society become diverse   \n",
              "5               science and engineering women Proud to be a science and engineering woman   \n",
              "6                  the number of role models for women in science and technology increase   \n",
              "7                                    Science and engineering women can live as themselves   \n",
              "8                                                          Aspiring people gather friends   \n",
              "9                                       events for middle and high school girls organized   \n",
              "10  JST Invites Applications for Programs for Female Junior High and High School Students   \n",
              "11                                                           A society embraces diversity   \n",
              "12                                 A society in which everyone can thrive can be realized   \n",
              "13                                                              Unconscious bias prevails   \n",
              "14                                              The need to raise funds on our own emerge   \n",
              "15                                             Science and engineering women remain minor   \n",
              "16                                                 Women are said not suited for science.   \n",
              "17   Parents and teachers promote liberal arts to female middle and high school students.   \n",
              "18                        the number of women in science and engineering remain to be low   \n",
              "19                                                 Young girls internalize the stereotype   \n",
              "20                                  NPO organization work towards breaking the stereotype   \n",
              "21                                      Young girls get knowledge about wrong stereotypes   \n",
              "22                                       Young girls do not hesitate to aim for STEM area   \n",
              "23                                                         Science be associated with men   \n",
              "24                                        Women be assiciated with care and domestic work   \n",
              "25                                              The need for support in child care emerge   \n",
              "26            NPO organization works to improve the working environment for women in STEM   \n",
              "\n",
              "      neg    neu    pos  compound  \n",
              "0   0.000  1.000  0.000    0.0000  \n",
              "1   0.000  0.660  0.340    0.3818  \n",
              "2   0.000  1.000  0.000    0.0000  \n",
              "3   0.000  1.000  0.000    0.0000  \n",
              "4   0.000  1.000  0.000    0.0000  \n",
              "5   0.000  0.780  0.220    0.4767  \n",
              "6   0.000  0.735  0.265    0.3818  \n",
              "7   0.000  1.000  0.000    0.0000  \n",
              "8   0.000  0.492  0.508    0.4767  \n",
              "9   0.000  1.000  0.000    0.0000  \n",
              "10  0.000  1.000  0.000    0.0000  \n",
              "11  0.000  1.000  0.000    0.0000  \n",
              "12  0.000  1.000  0.000    0.0000  \n",
              "13  0.412  0.588  0.000   -0.1027  \n",
              "14  0.000  1.000  0.000    0.0000  \n",
              "15  0.000  1.000  0.000    0.0000  \n",
              "16  0.000  1.000  0.000    0.0000  \n",
              "17  0.000  0.822  0.178    0.3818  \n",
              "18  0.157  0.746  0.097   -0.2023  \n",
              "19  0.365  0.635  0.000   -0.3182  \n",
              "20  0.277  0.723  0.000   -0.3182  \n",
              "21  0.341  0.659  0.000   -0.4767  \n",
              "22  0.000  0.832  0.168    0.2057  \n",
              "23  0.000  1.000  0.000    0.0000  \n",
              "24  0.000  0.686  0.314    0.4939  \n",
              "25  0.000  0.504  0.496    0.7096  \n",
              "26  0.000  0.791  0.209    0.4404  "
            ]
          },
          "execution_count": 274,
          "metadata": {},
          "output_type": "execute_result"
        }
      ],
      "source": [
        "df['sentence'] = df['fT'] + ' ' + df['sT']\n",
        "df_all = pd.concat([df, vad], axis=1)\n",
        "df_all.iloc[:, -5:]"
      ]
    },
    {
      "cell_type": "code",
      "execution_count": 275,
      "metadata": {},
      "outputs": [
        {
          "data": {
            "text/plain": [
              "<matplotlib.collections.PathCollection at 0x2aadb556c80>"
            ]
          },
          "execution_count": 275,
          "metadata": {},
          "output_type": "execute_result"
        },
        {
          "data": {
            "image/png": "[encoded data removed]",
            "text/plain": [
              "<Figure size 640x480 with 1 Axes>"
            ]
          },
          "metadata": {},
          "output_type": "display_data"
        }
      ],
      "source": [
        "p = vad['compound'].to_list()\n",
        "plt.scatter(p, y)"
      ]
    },
    {
      "cell_type": "code",
      "execution_count": null,
      "metadata": {},
      "outputs": [],
      "source": []
    }
  ],
  "metadata": {
    "colab": {
      "authorship_tag": "ABX9TyOv3xCyU2f/e02fV95M4CD1",
      "include_colab_link": true,
      "provenance": []
    },
    "kernelspec": {
      "display_name": "Python 3",
      "name": "python3"
    },
    "language_info": {
      "codemirror_mode": {
        "name": "ipython",
        "version": 3
      },
      "file_extension": ".py",
      "mimetype": "text/x-python",
      "name": "python",
      "nbconvert_exporter": "python",
      "pygments_lexer": "ipython3",
      "version": "3.10.11"
    }
  },
  "nbformat": 4,
  "nbformat_minor": 0
}
