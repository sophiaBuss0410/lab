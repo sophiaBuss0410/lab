{
  "cells": [
    {
      "cell_type": "markdown",
      "metadata": {
        "colab_type": "text",
        "id": "view-in-github"
      },
      "source": [
        "<a href=\"https://colab.research.google.com/github/sophiaBuss0410/lab/blob/main/read_dfrome_try.ipynb\" target=\"_parent\"><img src=\"https://colab.research.google.com/assets/colab-badge.svg\" alt=\"Open In Colab\"/></a>"
      ]
    },
    {
      "cell_type": "markdown",
      "metadata": {
        "id": "twhQPdwYu5KU"
      },
      "source": [
        "参考：https://qiita.com/kikuchiTakuya/items/53990fca06fb9ba1d8a7\n",
        "\n",
        "\n",
        "https://note.nkmk.me/python-dict-keys-values-items/"
      ]
    },
    {
      "cell_type": "code",
      "execution_count": 1,
      "metadata": {
        "id": "K_LGNEpqmAeD"
      },
      "outputs": [],
      "source": [
        "import json"
      ]
    },
    {
      "cell_type": "code",
      "execution_count": 2,
      "metadata": {
        "colab": {
          "base_uri": "https://localhost:8080/"
        },
        "id": "MOUgr_Ipuc0O",
        "outputId": "c701eb8c-d619-4c2b-9d13-e1ec10841c36"
      },
      "outputs": [
        {
          "name": "stdout",
          "output_type": "stream",
          "text": [
            "{'url': '', 'tree_id': 909, 'u': 'https://www.dfrome.com/select?id=909', 'memo': '理工系進学女性を増やす\\n森原ブリッジ', 'refs': '', 'bookmark': False, 'username': 'soph', 'name': 'Women Scientist/Engineer #minority #phasex', 'data': {'arrows': {'hasReason': [], 'hasEffect': [], 'hasArtifactsOnly': [{'refs': '', 'url': '', 'd2': {'width': 270, 'listId': 1, 'stageX': 1455.999986770391, 'stageY': 489.9994682359754}, 'memo': '', 'i2': 3, 'd1': {'width': 102, 'listId': 1, 'stageX': 1638.9999806988315, 'stageY': 744.0004873461471}, 'visible': True, 'id': 1, 'i1': 5}, {'refs': '', 'url': '', 'd2': {'width': 348, 'listId': 1, 'stageX': 1147.0000366210913, 'stageY': 437.9992953344661}, 'memo': '', 'i2': 11, 'd1': {'width': 270, 'listId': 1, 'stageX': 1455.999986770391, 'stageY': 489.9994682359754}, 'visible': True, 'id': 2, 'i1': 3}, {'refs': '', 'url': '', 'd2': {'width': 272, 'listId': 1, 'stageX': 1448, 'stageY': 247.999495606143}, 'memo': '', 'i2': 10, 'd1': {'width': 224, 'listId': 1, 'stageX': 1290.999999680444, 'stageY': 363.99963136238944}, 'visible': True, 'id': 3, 'i1': 2}, {'refs': '', 'url': '', 'd2': {'width': 181, 'listId': 1, 'stageX': 1755, 'stageY': 247.99940817787447}, 'memo': '', 'i2': 12, 'd1': {'width': 224, 'listId': 1, 'stageX': 1290.999999680444, 'stageY': 363.99963136238944}, 'visible': True, 'id': 4, 'i1': 2}, {'refs': '', 'url': '', 'd2': {'width': 272, 'listId': 1, 'stageX': 1448, 'stageY': 247.999495606143}, 'memo': '', 'i2': 10, 'd1': {'width': 181, 'listId': 1, 'stageX': 1594.000004090314, 'stageY': 374.99915973457735}, 'visible': True, 'id': 5, 'i1': 4}, {'refs': '', 'url': '', 'd2': {'width': 181, 'listId': 1, 'stageX': 1755, 'stageY': 247.99940817787447}, 'memo': '', 'i2': 12, 'd1': {'width': 181, 'listId': 1, 'stageX': 1594.000004090314, 'stageY': 374.99915973457735}, 'visible': True, 'id': 6, 'i1': 4}, {'refs': '', 'url': '', 'd2': {'width': 224, 'listId': 1, 'stageX': 1290.999999680444, 'stageY': 363.99963136238944}, 'memo': '', 'i2': 2, 'd1': {'width': 270, 'listId': 1, 'stageX': 1455.999986770391, 'stageY': 489.9994682359754}, 'visible': True, 'id': 7, 'i1': 3}, {'refs': '', 'url': '', 'd2': {'width': 181, 'listId': 1, 'stageX': 1594.000004090314, 'stageY': 374.99915973457735}, 'memo': '', 'i2': 4, 'd1': {'width': 270, 'listId': 1, 'stageX': 1455.999986770391, 'stageY': 489.9994682359754}, 'visible': True, 'id': 8, 'i1': 3}, {'refs': '', 'url': '', 'd2': {'width': 224, 'listId': 1, 'stageX': 1290.999999680444, 'stageY': 363.99963136238944}, 'memo': '', 'i2': 2, 'd1': {'width': 348, 'listId': 1, 'stageX': 1147.0000366210913, 'stageY': 437.9992953344661}, 'visible': True, 'id': 9, 'i1': 11}, {'refs': '', 'url': '', 'd2': {'width': 181, 'listId': 1, 'stageX': 1594.000004090314, 'stageY': 374.99915973457735}, 'memo': '', 'i2': 4, 'd1': {'width': 348, 'listId': 1, 'stageX': 1147.0000366210913, 'stageY': 437.9992953344661}, 'visible': True, 'id': 10, 'i1': 11}, {'refs': '', 'url': '', 'd2': {'width': 211, 'listId': 1, 'stageX': 1501.999995078841, 'stageY': 882.0008416730429}, 'memo': '', 'i2': 14, 'd1': {'width': 97, 'listId': 1, 'stageX': 1345, 'stageY': 989.0017552906223}, 'visible': True, 'id': 11, 'i1': 13}, {'refs': '', 'url': '', 'd2': {'width': 211, 'listId': 1, 'stageX': 1501.999995078841, 'stageY': 882.0008416730429}, 'memo': '', 'i2': 14, 'd1': {'width': 467, 'listId': 1, 'stageX': 1531, 'stageY': 982.0019503229137}, 'visible': True, 'id': 12, 'i1': 15}, {'refs': '', 'url': '', 'd2': {'width': 102, 'listId': 1, 'stageX': 1638.9999806988315, 'stageY': 744.0004873461471}, 'memo': '', 'i2': 5, 'd1': {'width': 211, 'listId': 1, 'stageX': 1501.999995078841, 'stageY': 882.0008416730429}, 'visible': True, 'id': 13, 'i1': 14}, {'refs': '', 'url': '', 'd2': {'width': 102, 'listId': 1, 'stageX': 1638.9999806988315, 'stageY': 744.0004873461471}, 'memo': '', 'i2': 5, 'd1': {'width': 196, 'listId': 1, 'stageX': 1373.000019620724, 'stageY': 813.9997623483675}, 'visible': True, 'id': 14, 'i1': 21}, {'refs': '', 'url': '', 'd2': {'width': 124, 'listId': 1, 'stageX': 1238, 'stageY': 251.99984531921717}, 'memo': '', 'i2': 17, 'd1': {'width': 224, 'listId': 1, 'stageX': 1290.999999680444, 'stageY': 363.99963136238944}, 'visible': True, 'id': 15, 'i1': 2}, {'refs': '', 'url': '', 'd2': {'width': 108, 'listId': 1, 'stageX': 1435, 'stageY': 75}, 'memo': '', 'i2': 9, 'd1': {'width': 124, 'listId': 1, 'stageX': 1238, 'stageY': 251.99984531921717}, 'visible': True, 'id': 16, 'i1': 17}, {'refs': '', 'url': '', 'd2': {'width': 181, 'listId': 1, 'stageX': 2306.999989518571, 'stageY': 175.99988035309445}, 'memo': '', 'i2': 24, 'd1': {'width': 270, 'listId': 1, 'stageX': 2307.9999884959925, 'stageY': 319.0000332352515}, 'visible': True, 'id': 17, 'i1': 28}, {'refs': '', 'url': '', 'd2': {'width': 358, 'listId': 1, 'stageX': 2277.9999972518203, 'stageY': 490.00011964690566}, 'memo': '', 'i2': 27, 'd1': {'width': 101, 'listId': 1, 'stageX': 2354.999987345591, 'stageY': 697.000671352081}, 'visible': True, 'id': 20, 'i1': 20}, {'refs': '', 'url': '', 'd2': {'width': 270, 'listId': 1, 'stageX': 2307.9999884959925, 'stageY': 319.0000332352515}, 'memo': '', 'i2': 28, 'd1': {'width': 187, 'listId': 1, 'stageX': 2451.9999959735974, 'stageY': 604.9998670589939}, 'visible': True, 'id': 21, 'i1': 26}, {'refs': '', 'url': '', 'd2': {'width': 270, 'listId': 1, 'stageX': 2307.9999884959925, 'stageY': 319.0000332352515}, 'memo': '', 'i2': 28, 'd1': {'width': 358, 'listId': 1, 'stageX': 2277.9999972518203, 'stageY': 490.00011964690566}, 'visible': True, 'id': 22, 'i1': 27}, {'refs': '', 'url': '', 'd2': {'width': 158, 'listId': 1, 'stageX': 2242.999987089948, 'stageY': 620.0011366456029}, 'memo': '', 'i2': 29, 'd1': {'width': 101, 'listId': 1, 'stageX': 2354.999987345591, 'stageY': 697.000671352081}, 'visible': True, 'id': 23, 'i1': 20}, {'refs': '', 'url': '', 'd2': {'width': 270, 'listId': 1, 'stageX': 2307.9999884959925, 'stageY': 319.0000332352515}, 'memo': '', 'i2': 28, 'd1': {'width': 158, 'listId': 1, 'stageX': 2242.999987089948, 'stageY': 620.0011366456029}, 'visible': True, 'id': 24, 'i1': 29}, {'refs': '', 'url': '', 'd2': {'width': 101, 'listId': 1, 'stageX': 2354.999987345591, 'stageY': 697.000671352081}, 'memo': '', 'i2': 20, 'd1': {'width': 187, 'listId': 1, 'stageX': 2451.9999959735974, 'stageY': 604.9998670589939}, 'visible': True, 'id': 25, 'i1': 26}, {'refs': '', 'url': '', 'd2': {'width': 224, 'listId': 1, 'stageX': 1827.0000044098686, 'stageY': 681.0015221745206}, 'memo': '', 'i2': 30, 'd1': {'width': 102, 'listId': 1, 'stageX': 1638.9999806988315, 'stageY': 744.0004873461471}, 'visible': True, 'id': 26, 'i1': 5}, {'refs': '', 'url': '', 'd2': {'width': 237, 'listId': 1, 'stageX': 1959.0000074136935, 'stageY': 587.0006779991315}, 'memo': '', 'i2': 31, 'd1': {'width': 224, 'listId': 1, 'stageX': 1827.0000044098686, 'stageY': 681.0015221745206}, 'visible': True, 'id': 27, 'i1': 30}, {'refs': '', 'url': '', 'd2': {'width': 158, 'listId': 1, 'stageX': 2242.999987089948, 'stageY': 620.0011366456029}, 'memo': '', 'i2': 29, 'd1': {'width': 237, 'listId': 1, 'stageX': 1959.0000074136935, 'stageY': 587.0006779991315}, 'visible': True, 'id': 28, 'i1': 31}, {'refs': '', 'url': '', 'd2': {'width': 220, 'listId': 1, 'stageX': 1776.000010737074, 'stageY': 546.0001661762577}, 'memo': '', 'i2': 32, 'd1': {'width': 237, 'listId': 1, 'stageX': 1959.0000074136935, 'stageY': 587.0006779991315}, 'visible': True, 'id': 29, 'i1': 31}, {'refs': '', 'url': '', 'd2': {'width': 270, 'listId': 1, 'stageX': 1455.999986770391, 'stageY': 489.9994682359754}, 'memo': '', 'i2': 3, 'd1': {'width': 220, 'listId': 1, 'stageX': 1776.000010737074, 'stageY': 546.0001661762577}, 'visible': True, 'id': 30, 'i1': 32}, {'refs': '', 'url': '', 'd2': {'width': 187, 'listId': 1, 'stageX': 2451.9999959735974, 'stageY': 604.9998670589939}, 'memo': '', 'i2': 26, 'd1': {'width': 149, 'listId': 1, 'stageX': 2589.999999552622, 'stageY': 882.0002259997106}, 'visible': True, 'id': 31, 'i1': 33}, {'refs': '', 'url': '', 'd2': {'width': 101, 'listId': 1, 'stageX': 2354.999987345591, 'stageY': 697.000671352081}, 'memo': '', 'i2': 20, 'd1': {'width': 149, 'listId': 1, 'stageX': 2589.999999552622, 'stageY': 882.0002259997106}, 'visible': True, 'id': 32, 'i1': 33}, {'refs': '', 'url': '', 'd2': {'width': 187, 'listId': 1, 'stageX': 2451.9999959735974, 'stageY': 604.9998670589939}, 'memo': '', 'i2': 26, 'd1': {'width': 249, 'listId': 1, 'stageX': 2304.000021985437, 'stageY': 882.0004652935216}, 'visible': True, 'id': 33, 'i1': 34}, {'refs': '', 'url': '', 'd2': {'width': 224, 'listId': 1, 'stageX': 1827.0000044098686, 'stageY': 681.0015221745206}, 'memo': '', 'i2': 30, 'd1': {'width': 211, 'listId': 1, 'stageX': 1501.999995078841, 'stageY': 882.0008416730429}, 'visible': True, 'id': 34, 'i1': 14}, {'refs': '', 'url': '', 'd2': {'width': 102, 'listId': 1, 'stageX': 1638.9999806988315, 'stageY': 744.0004873461471}, 'memo': '', 'i2': 5, 'd1': {'width': 186, 'listId': 1, 'stageX': 1850.0000098423177, 'stageY': 822.9999202353962}, 'visible': True, 'id': 35, 'i1': 35}, {'refs': '', 'url': '', 'd2': {'width': 186, 'listId': 1, 'stageX': 1850.0000098423177, 'stageY': 822.9999202353962}, 'memo': '', 'i2': 35, 'd1': {'width': 249, 'listId': 1, 'stageX': 2304.000021985437, 'stageY': 882.0004652935216}, 'visible': True, 'id': 36, 'i1': 34}, {'refs': '', 'url': '', 'd2': {'width': 358, 'listId': 1, 'stageX': 1541.9999957179527, 'stageY': 617.9998404707926}, 'memo': '', 'i2': 36, 'd1': {'width': 102, 'listId': 1, 'stageX': 1638.9999806988315, 'stageY': 744.0004873461471}, 'visible': True, 'id': 37, 'i1': 5}, {'refs': '', 'url': '', 'd2': {'width': 270, 'listId': 1, 'stageX': 1455.999986770391, 'stageY': 489.9994682359754}, 'memo': '', 'i2': 3, 'd1': {'width': 358, 'listId': 1, 'stageX': 1541.9999957179527, 'stageY': 617.9998404707926}, 'visible': True, 'id': 38, 'i1': 36}, {'refs': '', 'url': '', 'd2': {'width': 358, 'listId': 1, 'stageX': 1541.9999957179527, 'stageY': 617.9998404707926}, 'memo': '', 'i2': 36, 'd1': {'width': 186, 'listId': 1, 'stageX': 1850.0000098423177, 'stageY': 822.9999202353962}, 'visible': True, 'id': 39, 'i1': 35}]}, 'items': {'artifacts': [{'width': 224, 'fT': 'Being a science and engineering woman', 'url': '', 'pos': {'x': 326.99999968044403, 'y': 310.99963136238944}, 'memo': '', 'refs': '', 'sT': 'become normal', 'visible': True, 'id': 2}, {'width': 270, 'fT': 'the number of women in science and engineering', 'url': '', 'pos': {'x': 491.99998677039093, 'y': 436.9994682359754}, 'memo': '', 'refs': '', 'sT': 'Increase', 'visible': True, 'id': 3}, {'width': 181, 'fT': 'Science and engineering women', 'url': '', 'pos': {'x': 630.000004090314, 'y': 321.99915973457735}, 'memo': '', 'refs': '', 'sT': 'become major', 'visible': True, 'id': 4}, {'width': 102, 'fT': 'NPO organization', 'url': '', 'pos': {'x': 674.9999806988315, 'y': 691.0004873461471}, 'memo': 'GSTEM-CPP', 'refs': '', 'sT': 'be established', 'visible': True, 'id': 5}, {'width': 108, 'fT': 'The Society', 'url': '', 'pos': {'x': 471, 'y': 22}, 'memo': '', 'refs': '', 'sT': 'become diverse', 'visible': True, 'id': 9}, {'width': 272, 'fT': 'science and engineering women', 'url': '', 'pos': {'x': 484, 'y': 194.999495606143}, 'memo': '', 'refs': '', 'sT': 'Proud to be a science and engineering woman', 'visible': True, 'id': 10}, {'width': 348, 'fT': 'the number of role models for women in science and technology', 'url': '', 'pos': {'x': 183.00003662109134, 'y': 384.9992953344661}, 'memo': '', 'refs': '', 'sT': 'increase', 'visible': True, 'id': 11}, {'width': 181, 'fT': 'Science and engineering women', 'url': '', 'pos': {'x': 791, 'y': 194.99940817787447}, 'memo': '', 'refs': '', 'sT': 'can live as themselves', 'visible': True, 'id': 12}, {'width': 97, 'fT': 'Aspiring people', 'url': '', 'pos': {'x': 381, 'y': 936.0017552906223}, 'memo': '', 'refs': '', 'sT': 'gather friends', 'visible': True, 'id': 13}, {'width': 211, 'fT': 'events for middle and high school girls', 'url': '', 'pos': {'x': 537.999995078841, 'y': 829.0008416730429}, 'memo': '', 'refs': '', 'sT': 'organized', 'visible': True, 'id': 14}, {'width': 467, 'fT': 'JST', 'url': '', 'pos': {'x': 567, 'y': 929.0019503229137}, 'memo': '', 'refs': '', 'sT': 'Invites Applications for Programs for Female Junior High and High School Students', 'visible': True, 'id': 15}, {'width': 124, 'fT': 'A society', 'url': '', 'pos': {'x': 274, 'y': 198.99984531921717}, 'memo': '', 'refs': '', 'sT': 'embraces diversity', 'visible': True, 'id': 17}, {'width': 211, 'fT': 'A society in which everyone can thrive', 'url': '', 'pos': {'y': 76.99994619798858, 'x': 692}, 'memo': '', 'refs': '', 'sT': 'can be realized', 'visible': True, 'id': 18}, {'width': 101, 'fT': 'Unconscious bias', 'url': '', 'pos': {'x': 1390.9999873455909, 'y': 644.000671352081}, 'memo': '', 'refs': '', 'sT': 'prevails', 'visible': True, 'id': 20}, {'width': 196, 'fT': 'The need to raise funds on our own', 'url': '', 'pos': {'x': 409.00001962072406, 'y': 760.9997623483675}, 'memo': '', 'refs': '', 'sT': 'emerge', 'visible': True, 'id': 21}, {'width': 181, 'fT': 'Science and engineering women', 'url': '', 'pos': {'x': 1342.999989518571, 'y': 122.99988035309445}, 'memo': '', 'refs': '', 'sT': 'remain minor', 'visible': True, 'id': 24}, {'width': 187, 'fT': 'Women', 'url': '', 'pos': {'x': 1487.9999959735974, 'y': 551.9998670589939}, 'memo': '', 'refs': '', 'sT': 'are said not suited for science.', 'visible': True, 'id': 26}, {'width': 358, 'fT': 'Parents and teachers', 'url': '', 'pos': {'x': 1313.9999972518203, 'y': 437.00011964690566}, 'memo': '', 'refs': '', 'sT': 'promote liberal arts to female middle and high school students.', 'visible': True, 'id': 27}, {'width': 270, 'fT': 'the number of women in science and engineering', 'url': '', 'pos': {'x': 1343.9999884959925, 'y': 266.0000332352515}, 'memo': '', 'refs': '', 'sT': 'remain to be low', 'visible': True, 'id': 28}, {'width': 158, 'fT': 'Young girls', 'url': '', 'pos': {'x': 1278.9999870899478, 'y': 567.0011366456029}, 'memo': '', 'refs': '', 'sT': 'internalize the stereotype', 'visible': True, 'id': 29}, {'width': 224, 'fT': 'NPO organization', 'url': '', 'pos': {'x': 863.0000044098686, 'y': 628.0015221745206}, 'memo': '', 'refs': '', 'sT': 'work towards breaking the stereotype', 'visible': True, 'id': 30}, {'width': 237, 'fT': 'Young girls', 'url': '', 'pos': {'x': 995.0000074136935, 'y': 534.0006779991315}, 'memo': '', 'refs': '', 'sT': 'get knowledge about wrong stereotypes', 'visible': True, 'id': 31}, {'width': 220, 'fT': 'Young girls', 'url': '', 'pos': {'x': 812.000010737074, 'y': 493.0001661762577}, 'memo': '', 'refs': '', 'sT': 'do not hesitate to aim for STEM area', 'visible': True, 'id': 32}, {'width': 149, 'fT': 'Science', 'url': '', 'pos': {'x': 1625.9999995526218, 'y': 829.0002259997106}, 'memo': '', 'refs': '', 'sT': 'be associated with men', 'visible': True, 'id': 33}, {'width': 249, 'fT': 'Women', 'url': '', 'pos': {'x': 1340.000021985437, 'y': 829.0004652935216}, 'memo': '', 'refs': '', 'sT': 'be assiciated with care and domestic work', 'visible': True, 'id': 34}, {'width': 186, 'fT': 'The need for support in child care', 'url': '', 'pos': {'x': 886.0000098423177, 'y': 769.9999202353962}, 'memo': '', 'refs': '', 'sT': 'emerge', 'visible': True, 'id': 35}, {'width': 358, 'fT': 'NPO organization', 'url': '', 'pos': {'x': 577.9999957179527, 'y': 564.9998404707926}, 'memo': '', 'refs': '', 'sT': 'works to improve the working environment for women in STEM', 'visible': True, 'id': 36}], 'effects': [{'width': 56, 'fT': 'I', 'url': '', 'pos': {'y': 464, 'x': 368}, 'memo': 'with more friends', 'refs': '', 'sT': 'happy', 'visible': True, 'id': 16}], 'reasons': [{'width': 213, 'fT': 'I was the only student in', 'url': '', 'pos': {'y': 392, 'x': 180}, 'memo': '', 'refs': '', 'sT': 'my class (Univ. Chemical Engineering)', 'visible': True, 'id': 1}, {'width': 49, 'fT': 'I hate', 'url': '', 'pos': {'y': 354, 'x': 371}, 'memo': '', 'refs': '', 'sT': 'waste', 'visible': True, 'id': 6}, {'width': 59, 'fT': 'I like', 'url': '', 'pos': {'y': 482, 'x': 360}, 'memo': '', 'refs': '', 'sT': 'comrades', 'visible': True, 'id': 7}]}}}\n"
          ]
        }
      ],
      "source": [
        "json_open = open('id909.json', 'r', encoding=\"utf-8\")\n",
        "json_load = json.load(json_open)\n",
        "\n",
        "print(json_load)"
      ]
    },
    {
      "cell_type": "code",
      "execution_count": 3,
      "metadata": {
        "colab": {
          "base_uri": "https://localhost:8080/"
        },
        "id": "-1wLZ_C8umzU",
        "outputId": "e88fc6b3-459c-4d87-e148-52ce3b015223"
      },
      "outputs": [
        {
          "data": {
            "text/plain": [
              "dict"
            ]
          },
          "execution_count": 3,
          "metadata": {},
          "output_type": "execute_result"
        }
      ],
      "source": [
        "type(json_load)"
      ]
    },
    {
      "cell_type": "code",
      "execution_count": 4,
      "metadata": {
        "colab": {
          "base_uri": "https://localhost:8080/"
        },
        "id": "g1YTentqu0vZ",
        "outputId": "7ea1d38d-3b35-4e18-f2a0-f47ebbaf5659"
      },
      "outputs": [
        {
          "data": {
            "text/plain": [
              "dict_keys(['url', 'tree_id', 'u', 'memo', 'refs', 'bookmark', 'username', 'name', 'data'])"
            ]
          },
          "execution_count": 4,
          "metadata": {},
          "output_type": "execute_result"
        }
      ],
      "source": [
        "d = json_load\n",
        "d.keys()"
      ]
    },
    {
      "cell_type": "code",
      "execution_count": 5,
      "metadata": {
        "colab": {
          "base_uri": "https://localhost:8080/"
        },
        "id": "5ZORmND7vTP0",
        "outputId": "646a4f91-8bab-4ce3-9ba6-e0004fc6c5d1"
      },
      "outputs": [
        {
          "data": {
            "text/plain": [
              "[{'refs': '',\n",
              "  'url': '',\n",
              "  'd2': {'width': 270,\n",
              "   'listId': 1,\n",
              "   'stageX': 1455.999986770391,\n",
              "   'stageY': 489.9994682359754},\n",
              "  'memo': '',\n",
              "  'i2': 3,\n",
              "  'd1': {'width': 102,\n",
              "   'listId': 1,\n",
              "   'stageX': 1638.9999806988315,\n",
              "   'stageY': 744.0004873461471},\n",
              "  'visible': True,\n",
              "  'id': 1,\n",
              "  'i1': 5},\n",
              " {'refs': '',\n",
              "  'url': '',\n",
              "  'd2': {'width': 348,\n",
              "   'listId': 1,\n",
              "   'stageX': 1147.0000366210913,\n",
              "   'stageY': 437.9992953344661},\n",
              "  'memo': '',\n",
              "  'i2': 11,\n",
              "  'd1': {'width': 270,\n",
              "   'listId': 1,\n",
              "   'stageX': 1455.999986770391,\n",
              "   'stageY': 489.9994682359754},\n",
              "  'visible': True,\n",
              "  'id': 2,\n",
              "  'i1': 3},\n",
              " {'refs': '',\n",
              "  'url': '',\n",
              "  'd2': {'width': 272,\n",
              "   'listId': 1,\n",
              "   'stageX': 1448,\n",
              "   'stageY': 247.999495606143},\n",
              "  'memo': '',\n",
              "  'i2': 10,\n",
              "  'd1': {'width': 224,\n",
              "   'listId': 1,\n",
              "   'stageX': 1290.999999680444,\n",
              "   'stageY': 363.99963136238944},\n",
              "  'visible': True,\n",
              "  'id': 3,\n",
              "  'i1': 2},\n",
              " {'refs': '',\n",
              "  'url': '',\n",
              "  'd2': {'width': 181,\n",
              "   'listId': 1,\n",
              "   'stageX': 1755,\n",
              "   'stageY': 247.99940817787447},\n",
              "  'memo': '',\n",
              "  'i2': 12,\n",
              "  'd1': {'width': 224,\n",
              "   'listId': 1,\n",
              "   'stageX': 1290.999999680444,\n",
              "   'stageY': 363.99963136238944},\n",
              "  'visible': True,\n",
              "  'id': 4,\n",
              "  'i1': 2},\n",
              " {'refs': '',\n",
              "  'url': '',\n",
              "  'd2': {'width': 272,\n",
              "   'listId': 1,\n",
              "   'stageX': 1448,\n",
              "   'stageY': 247.999495606143},\n",
              "  'memo': '',\n",
              "  'i2': 10,\n",
              "  'd1': {'width': 181,\n",
              "   'listId': 1,\n",
              "   'stageX': 1594.000004090314,\n",
              "   'stageY': 374.99915973457735},\n",
              "  'visible': True,\n",
              "  'id': 5,\n",
              "  'i1': 4},\n",
              " {'refs': '',\n",
              "  'url': '',\n",
              "  'd2': {'width': 181,\n",
              "   'listId': 1,\n",
              "   'stageX': 1755,\n",
              "   'stageY': 247.99940817787447},\n",
              "  'memo': '',\n",
              "  'i2': 12,\n",
              "  'd1': {'width': 181,\n",
              "   'listId': 1,\n",
              "   'stageX': 1594.000004090314,\n",
              "   'stageY': 374.99915973457735},\n",
              "  'visible': True,\n",
              "  'id': 6,\n",
              "  'i1': 4},\n",
              " {'refs': '',\n",
              "  'url': '',\n",
              "  'd2': {'width': 224,\n",
              "   'listId': 1,\n",
              "   'stageX': 1290.999999680444,\n",
              "   'stageY': 363.99963136238944},\n",
              "  'memo': '',\n",
              "  'i2': 2,\n",
              "  'd1': {'width': 270,\n",
              "   'listId': 1,\n",
              "   'stageX': 1455.999986770391,\n",
              "   'stageY': 489.9994682359754},\n",
              "  'visible': True,\n",
              "  'id': 7,\n",
              "  'i1': 3},\n",
              " {'refs': '',\n",
              "  'url': '',\n",
              "  'd2': {'width': 181,\n",
              "   'listId': 1,\n",
              "   'stageX': 1594.000004090314,\n",
              "   'stageY': 374.99915973457735},\n",
              "  'memo': '',\n",
              "  'i2': 4,\n",
              "  'd1': {'width': 270,\n",
              "   'listId': 1,\n",
              "   'stageX': 1455.999986770391,\n",
              "   'stageY': 489.9994682359754},\n",
              "  'visible': True,\n",
              "  'id': 8,\n",
              "  'i1': 3},\n",
              " {'refs': '',\n",
              "  'url': '',\n",
              "  'd2': {'width': 224,\n",
              "   'listId': 1,\n",
              "   'stageX': 1290.999999680444,\n",
              "   'stageY': 363.99963136238944},\n",
              "  'memo': '',\n",
              "  'i2': 2,\n",
              "  'd1': {'width': 348,\n",
              "   'listId': 1,\n",
              "   'stageX': 1147.0000366210913,\n",
              "   'stageY': 437.9992953344661},\n",
              "  'visible': True,\n",
              "  'id': 9,\n",
              "  'i1': 11},\n",
              " {'refs': '',\n",
              "  'url': '',\n",
              "  'd2': {'width': 181,\n",
              "   'listId': 1,\n",
              "   'stageX': 1594.000004090314,\n",
              "   'stageY': 374.99915973457735},\n",
              "  'memo': '',\n",
              "  'i2': 4,\n",
              "  'd1': {'width': 348,\n",
              "   'listId': 1,\n",
              "   'stageX': 1147.0000366210913,\n",
              "   'stageY': 437.9992953344661},\n",
              "  'visible': True,\n",
              "  'id': 10,\n",
              "  'i1': 11},\n",
              " {'refs': '',\n",
              "  'url': '',\n",
              "  'd2': {'width': 211,\n",
              "   'listId': 1,\n",
              "   'stageX': 1501.999995078841,\n",
              "   'stageY': 882.0008416730429},\n",
              "  'memo': '',\n",
              "  'i2': 14,\n",
              "  'd1': {'width': 97,\n",
              "   'listId': 1,\n",
              "   'stageX': 1345,\n",
              "   'stageY': 989.0017552906223},\n",
              "  'visible': True,\n",
              "  'id': 11,\n",
              "  'i1': 13},\n",
              " {'refs': '',\n",
              "  'url': '',\n",
              "  'd2': {'width': 211,\n",
              "   'listId': 1,\n",
              "   'stageX': 1501.999995078841,\n",
              "   'stageY': 882.0008416730429},\n",
              "  'memo': '',\n",
              "  'i2': 14,\n",
              "  'd1': {'width': 467,\n",
              "   'listId': 1,\n",
              "   'stageX': 1531,\n",
              "   'stageY': 982.0019503229137},\n",
              "  'visible': True,\n",
              "  'id': 12,\n",
              "  'i1': 15},\n",
              " {'refs': '',\n",
              "  'url': '',\n",
              "  'd2': {'width': 102,\n",
              "   'listId': 1,\n",
              "   'stageX': 1638.9999806988315,\n",
              "   'stageY': 744.0004873461471},\n",
              "  'memo': '',\n",
              "  'i2': 5,\n",
              "  'd1': {'width': 211,\n",
              "   'listId': 1,\n",
              "   'stageX': 1501.999995078841,\n",
              "   'stageY': 882.0008416730429},\n",
              "  'visible': True,\n",
              "  'id': 13,\n",
              "  'i1': 14},\n",
              " {'refs': '',\n",
              "  'url': '',\n",
              "  'd2': {'width': 102,\n",
              "   'listId': 1,\n",
              "   'stageX': 1638.9999806988315,\n",
              "   'stageY': 744.0004873461471},\n",
              "  'memo': '',\n",
              "  'i2': 5,\n",
              "  'd1': {'width': 196,\n",
              "   'listId': 1,\n",
              "   'stageX': 1373.000019620724,\n",
              "   'stageY': 813.9997623483675},\n",
              "  'visible': True,\n",
              "  'id': 14,\n",
              "  'i1': 21},\n",
              " {'refs': '',\n",
              "  'url': '',\n",
              "  'd2': {'width': 124,\n",
              "   'listId': 1,\n",
              "   'stageX': 1238,\n",
              "   'stageY': 251.99984531921717},\n",
              "  'memo': '',\n",
              "  'i2': 17,\n",
              "  'd1': {'width': 224,\n",
              "   'listId': 1,\n",
              "   'stageX': 1290.999999680444,\n",
              "   'stageY': 363.99963136238944},\n",
              "  'visible': True,\n",
              "  'id': 15,\n",
              "  'i1': 2},\n",
              " {'refs': '',\n",
              "  'url': '',\n",
              "  'd2': {'width': 108, 'listId': 1, 'stageX': 1435, 'stageY': 75},\n",
              "  'memo': '',\n",
              "  'i2': 9,\n",
              "  'd1': {'width': 124,\n",
              "   'listId': 1,\n",
              "   'stageX': 1238,\n",
              "   'stageY': 251.99984531921717},\n",
              "  'visible': True,\n",
              "  'id': 16,\n",
              "  'i1': 17},\n",
              " {'refs': '',\n",
              "  'url': '',\n",
              "  'd2': {'width': 181,\n",
              "   'listId': 1,\n",
              "   'stageX': 2306.999989518571,\n",
              "   'stageY': 175.99988035309445},\n",
              "  'memo': '',\n",
              "  'i2': 24,\n",
              "  'd1': {'width': 270,\n",
              "   'listId': 1,\n",
              "   'stageX': 2307.9999884959925,\n",
              "   'stageY': 319.0000332352515},\n",
              "  'visible': True,\n",
              "  'id': 17,\n",
              "  'i1': 28},\n",
              " {'refs': '',\n",
              "  'url': '',\n",
              "  'd2': {'width': 358,\n",
              "   'listId': 1,\n",
              "   'stageX': 2277.9999972518203,\n",
              "   'stageY': 490.00011964690566},\n",
              "  'memo': '',\n",
              "  'i2': 27,\n",
              "  'd1': {'width': 101,\n",
              "   'listId': 1,\n",
              "   'stageX': 2354.999987345591,\n",
              "   'stageY': 697.000671352081},\n",
              "  'visible': True,\n",
              "  'id': 20,\n",
              "  'i1': 20},\n",
              " {'refs': '',\n",
              "  'url': '',\n",
              "  'd2': {'width': 270,\n",
              "   'listId': 1,\n",
              "   'stageX': 2307.9999884959925,\n",
              "   'stageY': 319.0000332352515},\n",
              "  'memo': '',\n",
              "  'i2': 28,\n",
              "  'd1': {'width': 187,\n",
              "   'listId': 1,\n",
              "   'stageX': 2451.9999959735974,\n",
              "   'stageY': 604.9998670589939},\n",
              "  'visible': True,\n",
              "  'id': 21,\n",
              "  'i1': 26},\n",
              " {'refs': '',\n",
              "  'url': '',\n",
              "  'd2': {'width': 270,\n",
              "   'listId': 1,\n",
              "   'stageX': 2307.9999884959925,\n",
              "   'stageY': 319.0000332352515},\n",
              "  'memo': '',\n",
              "  'i2': 28,\n",
              "  'd1': {'width': 358,\n",
              "   'listId': 1,\n",
              "   'stageX': 2277.9999972518203,\n",
              "   'stageY': 490.00011964690566},\n",
              "  'visible': True,\n",
              "  'id': 22,\n",
              "  'i1': 27},\n",
              " {'refs': '',\n",
              "  'url': '',\n",
              "  'd2': {'width': 158,\n",
              "   'listId': 1,\n",
              "   'stageX': 2242.999987089948,\n",
              "   'stageY': 620.0011366456029},\n",
              "  'memo': '',\n",
              "  'i2': 29,\n",
              "  'd1': {'width': 101,\n",
              "   'listId': 1,\n",
              "   'stageX': 2354.999987345591,\n",
              "   'stageY': 697.000671352081},\n",
              "  'visible': True,\n",
              "  'id': 23,\n",
              "  'i1': 20},\n",
              " {'refs': '',\n",
              "  'url': '',\n",
              "  'd2': {'width': 270,\n",
              "   'listId': 1,\n",
              "   'stageX': 2307.9999884959925,\n",
              "   'stageY': 319.0000332352515},\n",
              "  'memo': '',\n",
              "  'i2': 28,\n",
              "  'd1': {'width': 158,\n",
              "   'listId': 1,\n",
              "   'stageX': 2242.999987089948,\n",
              "   'stageY': 620.0011366456029},\n",
              "  'visible': True,\n",
              "  'id': 24,\n",
              "  'i1': 29},\n",
              " {'refs': '',\n",
              "  'url': '',\n",
              "  'd2': {'width': 101,\n",
              "   'listId': 1,\n",
              "   'stageX': 2354.999987345591,\n",
              "   'stageY': 697.000671352081},\n",
              "  'memo': '',\n",
              "  'i2': 20,\n",
              "  'd1': {'width': 187,\n",
              "   'listId': 1,\n",
              "   'stageX': 2451.9999959735974,\n",
              "   'stageY': 604.9998670589939},\n",
              "  'visible': True,\n",
              "  'id': 25,\n",
              "  'i1': 26},\n",
              " {'refs': '',\n",
              "  'url': '',\n",
              "  'd2': {'width': 224,\n",
              "   'listId': 1,\n",
              "   'stageX': 1827.0000044098686,\n",
              "   'stageY': 681.0015221745206},\n",
              "  'memo': '',\n",
              "  'i2': 30,\n",
              "  'd1': {'width': 102,\n",
              "   'listId': 1,\n",
              "   'stageX': 1638.9999806988315,\n",
              "   'stageY': 744.0004873461471},\n",
              "  'visible': True,\n",
              "  'id': 26,\n",
              "  'i1': 5},\n",
              " {'refs': '',\n",
              "  'url': '',\n",
              "  'd2': {'width': 237,\n",
              "   'listId': 1,\n",
              "   'stageX': 1959.0000074136935,\n",
              "   'stageY': 587.0006779991315},\n",
              "  'memo': '',\n",
              "  'i2': 31,\n",
              "  'd1': {'width': 224,\n",
              "   'listId': 1,\n",
              "   'stageX': 1827.0000044098686,\n",
              "   'stageY': 681.0015221745206},\n",
              "  'visible': True,\n",
              "  'id': 27,\n",
              "  'i1': 30},\n",
              " {'refs': '',\n",
              "  'url': '',\n",
              "  'd2': {'width': 158,\n",
              "   'listId': 1,\n",
              "   'stageX': 2242.999987089948,\n",
              "   'stageY': 620.0011366456029},\n",
              "  'memo': '',\n",
              "  'i2': 29,\n",
              "  'd1': {'width': 237,\n",
              "   'listId': 1,\n",
              "   'stageX': 1959.0000074136935,\n",
              "   'stageY': 587.0006779991315},\n",
              "  'visible': True,\n",
              "  'id': 28,\n",
              "  'i1': 31},\n",
              " {'refs': '',\n",
              "  'url': '',\n",
              "  'd2': {'width': 220,\n",
              "   'listId': 1,\n",
              "   'stageX': 1776.000010737074,\n",
              "   'stageY': 546.0001661762577},\n",
              "  'memo': '',\n",
              "  'i2': 32,\n",
              "  'd1': {'width': 237,\n",
              "   'listId': 1,\n",
              "   'stageX': 1959.0000074136935,\n",
              "   'stageY': 587.0006779991315},\n",
              "  'visible': True,\n",
              "  'id': 29,\n",
              "  'i1': 31},\n",
              " {'refs': '',\n",
              "  'url': '',\n",
              "  'd2': {'width': 270,\n",
              "   'listId': 1,\n",
              "   'stageX': 1455.999986770391,\n",
              "   'stageY': 489.9994682359754},\n",
              "  'memo': '',\n",
              "  'i2': 3,\n",
              "  'd1': {'width': 220,\n",
              "   'listId': 1,\n",
              "   'stageX': 1776.000010737074,\n",
              "   'stageY': 546.0001661762577},\n",
              "  'visible': True,\n",
              "  'id': 30,\n",
              "  'i1': 32},\n",
              " {'refs': '',\n",
              "  'url': '',\n",
              "  'd2': {'width': 187,\n",
              "   'listId': 1,\n",
              "   'stageX': 2451.9999959735974,\n",
              "   'stageY': 604.9998670589939},\n",
              "  'memo': '',\n",
              "  'i2': 26,\n",
              "  'd1': {'width': 149,\n",
              "   'listId': 1,\n",
              "   'stageX': 2589.999999552622,\n",
              "   'stageY': 882.0002259997106},\n",
              "  'visible': True,\n",
              "  'id': 31,\n",
              "  'i1': 33},\n",
              " {'refs': '',\n",
              "  'url': '',\n",
              "  'd2': {'width': 101,\n",
              "   'listId': 1,\n",
              "   'stageX': 2354.999987345591,\n",
              "   'stageY': 697.000671352081},\n",
              "  'memo': '',\n",
              "  'i2': 20,\n",
              "  'd1': {'width': 149,\n",
              "   'listId': 1,\n",
              "   'stageX': 2589.999999552622,\n",
              "   'stageY': 882.0002259997106},\n",
              "  'visible': True,\n",
              "  'id': 32,\n",
              "  'i1': 33},\n",
              " {'refs': '',\n",
              "  'url': '',\n",
              "  'd2': {'width': 187,\n",
              "   'listId': 1,\n",
              "   'stageX': 2451.9999959735974,\n",
              "   'stageY': 604.9998670589939},\n",
              "  'memo': '',\n",
              "  'i2': 26,\n",
              "  'd1': {'width': 249,\n",
              "   'listId': 1,\n",
              "   'stageX': 2304.000021985437,\n",
              "   'stageY': 882.0004652935216},\n",
              "  'visible': True,\n",
              "  'id': 33,\n",
              "  'i1': 34},\n",
              " {'refs': '',\n",
              "  'url': '',\n",
              "  'd2': {'width': 224,\n",
              "   'listId': 1,\n",
              "   'stageX': 1827.0000044098686,\n",
              "   'stageY': 681.0015221745206},\n",
              "  'memo': '',\n",
              "  'i2': 30,\n",
              "  'd1': {'width': 211,\n",
              "   'listId': 1,\n",
              "   'stageX': 1501.999995078841,\n",
              "   'stageY': 882.0008416730429},\n",
              "  'visible': True,\n",
              "  'id': 34,\n",
              "  'i1': 14},\n",
              " {'refs': '',\n",
              "  'url': '',\n",
              "  'd2': {'width': 102,\n",
              "   'listId': 1,\n",
              "   'stageX': 1638.9999806988315,\n",
              "   'stageY': 744.0004873461471},\n",
              "  'memo': '',\n",
              "  'i2': 5,\n",
              "  'd1': {'width': 186,\n",
              "   'listId': 1,\n",
              "   'stageX': 1850.0000098423177,\n",
              "   'stageY': 822.9999202353962},\n",
              "  'visible': True,\n",
              "  'id': 35,\n",
              "  'i1': 35},\n",
              " {'refs': '',\n",
              "  'url': '',\n",
              "  'd2': {'width': 186,\n",
              "   'listId': 1,\n",
              "   'stageX': 1850.0000098423177,\n",
              "   'stageY': 822.9999202353962},\n",
              "  'memo': '',\n",
              "  'i2': 35,\n",
              "  'd1': {'width': 249,\n",
              "   'listId': 1,\n",
              "   'stageX': 2304.000021985437,\n",
              "   'stageY': 882.0004652935216},\n",
              "  'visible': True,\n",
              "  'id': 36,\n",
              "  'i1': 34},\n",
              " {'refs': '',\n",
              "  'url': '',\n",
              "  'd2': {'width': 358,\n",
              "   'listId': 1,\n",
              "   'stageX': 1541.9999957179527,\n",
              "   'stageY': 617.9998404707926},\n",
              "  'memo': '',\n",
              "  'i2': 36,\n",
              "  'd1': {'width': 102,\n",
              "   'listId': 1,\n",
              "   'stageX': 1638.9999806988315,\n",
              "   'stageY': 744.0004873461471},\n",
              "  'visible': True,\n",
              "  'id': 37,\n",
              "  'i1': 5},\n",
              " {'refs': '',\n",
              "  'url': '',\n",
              "  'd2': {'width': 270,\n",
              "   'listId': 1,\n",
              "   'stageX': 1455.999986770391,\n",
              "   'stageY': 489.9994682359754},\n",
              "  'memo': '',\n",
              "  'i2': 3,\n",
              "  'd1': {'width': 358,\n",
              "   'listId': 1,\n",
              "   'stageX': 1541.9999957179527,\n",
              "   'stageY': 617.9998404707926},\n",
              "  'visible': True,\n",
              "  'id': 38,\n",
              "  'i1': 36},\n",
              " {'refs': '',\n",
              "  'url': '',\n",
              "  'd2': {'width': 358,\n",
              "   'listId': 1,\n",
              "   'stageX': 1541.9999957179527,\n",
              "   'stageY': 617.9998404707926},\n",
              "  'memo': '',\n",
              "  'i2': 36,\n",
              "  'd1': {'width': 186,\n",
              "   'listId': 1,\n",
              "   'stageX': 1850.0000098423177,\n",
              "   'stageY': 822.9999202353962},\n",
              "  'visible': True,\n",
              "  'id': 39,\n",
              "  'i1': 35}]"
            ]
          },
          "execution_count": 5,
          "metadata": {},
          "output_type": "execute_result"
        }
      ],
      "source": [
        "arr = d[\"data\"][\"arrows\"][\"hasArtifactsOnly\"]\n",
        "arr"
      ]
    },
    {
      "cell_type": "code",
      "execution_count": 6,
      "metadata": {
        "id": "THKDuNmTzr-b"
      },
      "outputs": [],
      "source": [
        "eds = []\n",
        "\n",
        "for i in range(len(arr)):\n",
        "  eds.append([arr[i][\"id\"], arr[i][\"i1\"], arr[i][\"i2\"]])"
      ]
    },
    {
      "cell_type": "code",
      "execution_count": 7,
      "metadata": {
        "id": "ROrwSToW3zrU"
      },
      "outputs": [],
      "source": [
        "eds = []\n",
        "\n",
        "for i in range(len(arr)):\n",
        "  eds.append((str(arr[i][\"i1\"]), str(arr[i][\"i2\"])))"
      ]
    },
    {
      "cell_type": "code",
      "execution_count": 8,
      "metadata": {
        "colab": {
          "base_uri": "https://localhost:8080/"
        },
        "id": "UfYGZIfO1WQV",
        "outputId": "f719bf11-ed12-4ab0-b5e3-6ec67b9b22ba"
      },
      "outputs": [
        {
          "data": {
            "text/plain": [
              "[('5', '3'),\n",
              " ('3', '11'),\n",
              " ('2', '10'),\n",
              " ('2', '12'),\n",
              " ('4', '10'),\n",
              " ('4', '12'),\n",
              " ('3', '2'),\n",
              " ('3', '4'),\n",
              " ('11', '2'),\n",
              " ('11', '4'),\n",
              " ('13', '14'),\n",
              " ('15', '14'),\n",
              " ('14', '5'),\n",
              " ('21', '5'),\n",
              " ('2', '17'),\n",
              " ('17', '9'),\n",
              " ('28', '24'),\n",
              " ('20', '27'),\n",
              " ('26', '28'),\n",
              " ('27', '28'),\n",
              " ('20', '29'),\n",
              " ('29', '28'),\n",
              " ('26', '20'),\n",
              " ('5', '30'),\n",
              " ('30', '31'),\n",
              " ('31', '29'),\n",
              " ('31', '32'),\n",
              " ('32', '3'),\n",
              " ('33', '26'),\n",
              " ('33', '20'),\n",
              " ('34', '26'),\n",
              " ('14', '30'),\n",
              " ('35', '5'),\n",
              " ('34', '35'),\n",
              " ('5', '36'),\n",
              " ('36', '3'),\n",
              " ('35', '36')]"
            ]
          },
          "execution_count": 8,
          "metadata": {},
          "output_type": "execute_result"
        }
      ],
      "source": [
        "eds"
      ]
    },
    {
      "cell_type": "code",
      "execution_count": 9,
      "metadata": {},
      "outputs": [],
      "source": [
        "# %pip install networkx"
      ]
    },
    {
      "cell_type": "code",
      "execution_count": 10,
      "metadata": {
        "id": "koklDLNFv2yr"
      },
      "outputs": [],
      "source": [
        "from matplotlib import pyplot as plt\n",
        "import networkx as nx\n",
        "\n",
        "def show_graph(in_list):\n",
        "  G = nx.Graph()\n",
        "  rels = in_list\n",
        "  G.add_edges_from(rels)\n",
        "  nx.draw_networkx(G, node_color='moccasin')\n",
        "  plt.show()"
      ]
    },
    {
      "cell_type": "code",
      "execution_count": 11,
      "metadata": {},
      "outputs": [
        {
          "name": "stdout",
          "output_type": "stream",
          "text": [
            "[('1', {'color': 'royalblue'})] [('5', '3')]\n"
          ]
        }
      ],
      "source": [
        "nodes = [(str(i), {'color' : 'royalblue'}) for i in range(1,40)]\n",
        "print(nodes[:1], eds[:1])"
      ]
    },
    {
      "cell_type": "code",
      "execution_count": 12,
      "metadata": {
        "colab": {
          "base_uri": "https://localhost:8080/",
          "height": 406
        },
        "id": "g2wokosn36_c",
        "outputId": "974b47c6-0258-41c9-da87-6cef3045d4b0"
      },
      "outputs": [
        {
          "data": {
            "image/png": "[encoded data removed]",
            "text/plain": [
              "<Figure size 640x480 with 1 Axes>"
            ]
          },
          "metadata": {},
          "output_type": "display_data"
        }
      ],
      "source": [
        "show_graph(eds)"
      ]
    },
    {
      "cell_type": "code",
      "execution_count": 13,
      "metadata": {
        "colab": {
          "base_uri": "https://localhost:8080/"
        },
        "id": "dknR1Xtt4FUk",
        "outputId": "a66bb01d-06bb-4676-b26d-4cbcd290eea1"
      },
      "outputs": [],
      "source": [
        "# !pip install pyvis"
      ]
    },
    {
      "cell_type": "code",
      "execution_count": 14,
      "metadata": {
        "id": "OO13uYJR4Dqo"
      },
      "outputs": [],
      "source": [
        "# ライブラリのインポート\n",
        "import networkx as nx\n",
        "from pyvis.network import Network\n",
        "\n",
        "# グラフのhtmlファイルを保存する関数の定義\n",
        "def save_graph_html(in_list, nodes):\n",
        "  G = nx.Graph()\n",
        "  rels = in_list\n",
        "  # G.add_nodes_from(nodes)\n",
        "  G.add_edges_from(rels)\n",
        "  net = Network()\n",
        "  net.from_nx(G)\n",
        "  net.save_graph(\"networkx-dfrome.html\")"
      ]
    },
    {
      "cell_type": "code",
      "execution_count": 15,
      "metadata": {
        "id": "Htbci1P-4Jk6"
      },
      "outputs": [],
      "source": [
        "save_graph_html(eds, nodes)"
      ]
    },
    {
      "attachments": {},
      "cell_type": "markdown",
      "metadata": {},
      "source": [
        "## テキスト取り出し"
      ]
    },
    {
      "cell_type": "code",
      "execution_count": 19,
      "metadata": {},
      "outputs": [],
      "source": [
        "import pandas as pd"
      ]
    },
    {
      "cell_type": "code",
      "execution_count": 17,
      "metadata": {},
      "outputs": [
        {
          "data": {
            "text/plain": [
              "{'width': 270,\n",
              " 'fT': 'the number of women in science and engineering',\n",
              " 'url': '',\n",
              " 'pos': {'x': 491.99998677039093, 'y': 436.9994682359754},\n",
              " 'memo': '',\n",
              " 'refs': '',\n",
              " 'sT': 'Increase',\n",
              " 'visible': True,\n",
              " 'id': 3}"
            ]
          },
          "execution_count": 17,
          "metadata": {},
          "output_type": "execute_result"
        }
      ],
      "source": [
        "# ノード情報\n",
        "\n",
        "nodes = d[\"data\"][\"items\"][\"artifacts\"]\n",
        "nodes[1]"
      ]
    },
    {
      "cell_type": "code",
      "execution_count": 20,
      "metadata": {},
      "outputs": [
        {
          "data": {
            "text/html": [
              "<div>\n",
              "<style scoped>\n",
              "    .dataframe tbody tr th:only-of-type {\n",
              "        vertical-align: middle;\n",
              "    }\n",
              "\n",
              "    .dataframe tbody tr th {\n",
              "        vertical-align: top;\n",
              "    }\n",
              "\n",
              "    .dataframe thead th {\n",
              "        text-align: right;\n",
              "    }\n",
              "</style>\n",
              "<table border=\"1\" class=\"dataframe\">\n",
              "  <thead>\n",
              "    <tr style=\"text-align: right;\">\n",
              "      <th></th>\n",
              "      <th>id</th>\n",
              "      <th>fT</th>\n",
              "      <th>sT</th>\n",
              "    </tr>\n",
              "  </thead>\n",
              "  <tbody>\n",
              "    <tr>\n",
              "      <th>0</th>\n",
              "      <td>2</td>\n",
              "      <td>Being a science and engineering woman</td>\n",
              "      <td>become normal</td>\n",
              "    </tr>\n",
              "    <tr>\n",
              "      <th>1</th>\n",
              "      <td>3</td>\n",
              "      <td>the number of women in science and engineering</td>\n",
              "      <td>Increase</td>\n",
              "    </tr>\n",
              "    <tr>\n",
              "      <th>2</th>\n",
              "      <td>4</td>\n",
              "      <td>Science and engineering women</td>\n",
              "      <td>become major</td>\n",
              "    </tr>\n",
              "    <tr>\n",
              "      <th>3</th>\n",
              "      <td>5</td>\n",
              "      <td>NPO organization</td>\n",
              "      <td>be established</td>\n",
              "    </tr>\n",
              "    <tr>\n",
              "      <th>4</th>\n",
              "      <td>9</td>\n",
              "      <td>The Society</td>\n",
              "      <td>become diverse</td>\n",
              "    </tr>\n",
              "  </tbody>\n",
              "</table>\n",
              "</div>"
            ],
            "text/plain": [
              "   id                                              fT              sT\n",
              "0   2           Being a science and engineering woman   become normal\n",
              "1   3  the number of women in science and engineering        Increase\n",
              "2   4                   Science and engineering women    become major\n",
              "3   5                                NPO organization  be established\n",
              "4   9                                     The Society  become diverse"
            ]
          },
          "execution_count": 20,
          "metadata": {},
          "output_type": "execute_result"
        }
      ],
      "source": [
        "lst = [[nodes[i]['id'], nodes[i]['fT'], nodes[i]['sT']] for i in range(len(nodes))]\n",
        "lst[:2]\n",
        "df = pd.DataFrame(lst, columns =['id', 'fT', 'sT']) \n",
        "df.head()"
      ]
    },
    {
      "cell_type": "code",
      "execution_count": 21,
      "metadata": {},
      "outputs": [
        {
          "data": {
            "text/plain": [
              "['Being a science and engineering womanbecome normal',\n",
              " 'the number of women in science and engineeringIncrease',\n",
              " 'Science and engineering womenbecome major',\n",
              " 'NPO organizationbe established',\n",
              " 'The Societybecome diverse',\n",
              " 'science and engineering womenProud to be a science and engineering woman',\n",
              " 'the number of role models for women in science and technologyincrease',\n",
              " 'Science and engineering womencan live as themselves',\n",
              " 'Aspiring peoplegather friends',\n",
              " 'events for middle and high school girlsorganized',\n",
              " 'JSTInvites Applications for Programs for Female Junior High and High School Students',\n",
              " 'A societyembraces diversity',\n",
              " 'A society in which everyone can thrivecan be realized',\n",
              " 'Unconscious biasprevails',\n",
              " 'The need to raise funds on our ownemerge',\n",
              " 'Science and engineering womenremain minor',\n",
              " 'Womenare said not suited for science.',\n",
              " 'Parents and teacherspromote liberal arts to female middle and high school students.',\n",
              " 'the number of women in science and engineeringremain to be low',\n",
              " 'Young girlsinternalize the stereotype',\n",
              " 'NPO organizationwork towards breaking the stereotype',\n",
              " 'Young girlsget knowledge about wrong stereotypes',\n",
              " 'Young girlsdo not hesitate to aim for STEM area',\n",
              " 'Sciencebe associated with men',\n",
              " 'Womenbe assiciated with care and domestic work',\n",
              " 'The need for support in child careemerge',\n",
              " 'NPO organizationworks to improve the working environment for women in STEM']"
            ]
          },
          "execution_count": 21,
          "metadata": {},
          "output_type": "execute_result"
        }
      ],
      "source": [
        "sent = [nodes[i]['fT'] + nodes[i]['sT'] for i in range(len(nodes))]\n",
        "sent\n",
        "\n"
      ]
    },
    {
      "cell_type": "code",
      "execution_count": 22,
      "metadata": {},
      "outputs": [],
      "source": [
        "with open('id909.txt', 'w') as f:\n",
        "    for line in sent:\n",
        "        f.write(line)\n",
        "        f.write('\\n')"
      ]
    }
  ],
  "metadata": {
    "colab": {
      "authorship_tag": "ABX9TyOv3xCyU2f/e02fV95M4CD1",
      "include_colab_link": true,
      "provenance": []
    },
    "kernelspec": {
      "display_name": "Python 3",
      "name": "python3"
    },
    "language_info": {
      "codemirror_mode": {
        "name": "ipython",
        "version": 3
      },
      "file_extension": ".py",
      "mimetype": "text/x-python",
      "name": "python",
      "nbconvert_exporter": "python",
      "pygments_lexer": "ipython3",
      "version": "3.10.11"
    }
  },
  "nbformat": 4,
  "nbformat_minor": 0
}
