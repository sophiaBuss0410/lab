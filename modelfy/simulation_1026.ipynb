{
 "cells": [
  {
   "cell_type": "markdown",
   "metadata": {},
   "source": [
    "## シミュレーションしてエントロピーへの理解を深める"
   ]
  },
  {
   "cell_type": "code",
   "execution_count": 1,
   "metadata": {},
   "outputs": [],
   "source": [
    "import pandas as pd\n",
    "import numpy as np\n",
    "import matplotlib.pyplot as plt"
   ]
  },
  {
   "cell_type": "code",
   "execution_count": 84,
   "metadata": {},
   "outputs": [
    {
     "name": "stdout",
     "output_type": "stream",
     "text": [
      "[0.01 0.02 0.03 0.04 0.05 0.06 0.07 0.08 0.09 0.1  0.11 0.12 0.13 0.14\n",
      " 0.15 0.16 0.17 0.18 0.19 0.2  0.21 0.22 0.23 0.24 0.25 0.26 0.27 0.28\n",
      " 0.29 0.3  0.31 0.32 0.33 0.34 0.35 0.36 0.37 0.38 0.39 0.4  0.41 0.42\n",
      " 0.43 0.44 0.45 0.46 0.47 0.48 0.49] [0.99 0.98 0.97 0.96 0.95 0.94 0.93 0.92 0.91 0.9  0.89 0.88 0.87 0.86\n",
      " 0.85 0.84 0.83 0.82 0.81 0.8  0.79 0.78 0.77 0.76 0.75 0.74 0.73 0.72\n",
      " 0.71 0.7  0.69 0.68 0.67 0.66 0.65 0.64 0.63 0.62 0.61 0.6  0.59 0.58\n",
      " 0.57 0.56 0.55 0.54 0.53 0.52 0.51] 49 2401\n"
     ]
    }
   ],
   "source": [
    "i1 = np.arange(0.01,0.5,0.01)\n",
    "i2 = 1-i1\n",
    "print(i1, i2, len(i1), 49*49)"
   ]
  },
  {
   "cell_type": "code",
   "execution_count": 105,
   "metadata": {},
   "outputs": [],
   "source": [
    "U = 100\n",
    "M = 60\n",
    "G = 12\n",
    "\n",
    "pm1 = M/U\n",
    "pm2 = 1-pm1\n",
    "pg1 = G/U\n",
    "pg2 = 1-pg1"
   ]
  },
  {
   "cell_type": "markdown",
   "metadata": {},
   "source": [
    "#### 東大入試の例で検算"
   ]
  },
  {
   "cell_type": "code",
   "execution_count": 110,
   "metadata": {},
   "outputs": [],
   "source": [
    "U = 637000\n",
    "M = 9559\n",
    "G = 3060\n",
    "\n",
    "pm1 = M/U\n",
    "pm2 = 1-pm1\n",
    "\n",
    "pg1 = G/U\n",
    "pg2 = 1-pg1"
   ]
  },
  {
   "cell_type": "code",
   "execution_count": 82,
   "metadata": {},
   "outputs": [
    {
     "name": "stdout",
     "output_type": "stream",
     "text": [
      "0.0033464003139717425 0.449157136577708 0.9909732316120554\n"
     ]
    }
   ],
   "source": [
    "i1 = 0.456\n",
    "i2 = 1-i1\n",
    "\n",
    "m = 0.223\n",
    "\n",
    "pi1m1 = m*pm1\n",
    "pi2m1 = (1-m)*pm1\n",
    "pi1m2 = i1*pm2\n",
    "pi2m2 = i2*pm2\n",
    "\n",
    "h = -pi1m1*np.log2(m)-pi2m1*np.log2(1-m)-pi1m2*np.log2(i1)-pi2m2*np.log2(i2)\n",
    "\n",
    "print(pi1m1, pi1m2, h)"
   ]
  },
  {
   "cell_type": "markdown",
   "metadata": {},
   "source": [
    "## シミュレーション"
   ]
  },
  {
   "cell_type": "code",
   "execution_count": 111,
   "metadata": {},
   "outputs": [],
   "source": [
    "Him = [[],[],[],[],[]]\n",
    "\n",
    "for u in i1:\n",
    "    for m in i1:\n",
    "        pi1m1 = m*pm1\n",
    "        pi2m1 = (1-m)*pm1\n",
    "        pi1m2 = u*pm2\n",
    "        pi2m2 = (1-u)*pm2\n",
    "        Him[0].append(u)\n",
    "        Him[1].append(m)\n",
    "        Him[2].append(-pi1m1*np.log2(m)-pi2m1*np.log2(1-m)-pi1m2*np.log2(u)-pi2m2*np.log2(1-u))\n",
    "        Him[3].append(-u*np.log2(u)-(1-u)*np.log2(1-u))\n",
    "        Him[4].append(-m*np.log2(m)-(1-m)*np.log2(1-m))"
   ]
  },
  {
   "cell_type": "code",
   "execution_count": 112,
   "metadata": {},
   "outputs": [
    {
     "data": {
      "text/html": [
       "<div>\n",
       "<style scoped>\n",
       "    .dataframe tbody tr th:only-of-type {\n",
       "        vertical-align: middle;\n",
       "    }\n",
       "\n",
       "    .dataframe tbody tr th {\n",
       "        vertical-align: top;\n",
       "    }\n",
       "\n",
       "    .dataframe thead th {\n",
       "        text-align: right;\n",
       "    }\n",
       "</style>\n",
       "<table border=\"1\" class=\"dataframe\">\n",
       "  <thead>\n",
       "    <tr style=\"text-align: right;\">\n",
       "      <th></th>\n",
       "      <th>P(i1|U)</th>\n",
       "      <th>P(i1|M)</th>\n",
       "      <th>H(I|M)</th>\n",
       "      <th>H(I)</th>\n",
       "      <th>H(M)</th>\n",
       "    </tr>\n",
       "  </thead>\n",
       "  <tbody>\n",
       "    <tr>\n",
       "      <th>0</th>\n",
       "      <td>0.01</td>\n",
       "      <td>0.01</td>\n",
       "      <td>0.080793</td>\n",
       "      <td>0.080793</td>\n",
       "      <td>0.080793</td>\n",
       "    </tr>\n",
       "    <tr>\n",
       "      <th>1</th>\n",
       "      <td>0.01</td>\n",
       "      <td>0.02</td>\n",
       "      <td>0.081703</td>\n",
       "      <td>0.080793</td>\n",
       "      <td>0.141441</td>\n",
       "    </tr>\n",
       "    <tr>\n",
       "      <th>2</th>\n",
       "      <td>0.01</td>\n",
       "      <td>0.03</td>\n",
       "      <td>0.082498</td>\n",
       "      <td>0.080793</td>\n",
       "      <td>0.194392</td>\n",
       "    </tr>\n",
       "    <tr>\n",
       "      <th>3</th>\n",
       "      <td>0.01</td>\n",
       "      <td>0.04</td>\n",
       "      <td>0.083217</td>\n",
       "      <td>0.080793</td>\n",
       "      <td>0.242292</td>\n",
       "    </tr>\n",
       "    <tr>\n",
       "      <th>4</th>\n",
       "      <td>0.01</td>\n",
       "      <td>0.05</td>\n",
       "      <td>0.083878</td>\n",
       "      <td>0.080793</td>\n",
       "      <td>0.286397</td>\n",
       "    </tr>\n",
       "    <tr>\n",
       "      <th>...</th>\n",
       "      <td>...</td>\n",
       "      <td>...</td>\n",
       "      <td>...</td>\n",
       "      <td>...</td>\n",
       "      <td>...</td>\n",
       "    </tr>\n",
       "    <tr>\n",
       "      <th>2396</th>\n",
       "      <td>0.49</td>\n",
       "      <td>0.45</td>\n",
       "      <td>0.999607</td>\n",
       "      <td>0.999711</td>\n",
       "      <td>0.992774</td>\n",
       "    </tr>\n",
       "    <tr>\n",
       "      <th>2397</th>\n",
       "      <td>0.49</td>\n",
       "      <td>0.46</td>\n",
       "      <td>0.999646</td>\n",
       "      <td>0.999711</td>\n",
       "      <td>0.995378</td>\n",
       "    </tr>\n",
       "    <tr>\n",
       "      <th>2398</th>\n",
       "      <td>0.49</td>\n",
       "      <td>0.47</td>\n",
       "      <td>0.999677</td>\n",
       "      <td>0.999711</td>\n",
       "      <td>0.997402</td>\n",
       "    </tr>\n",
       "    <tr>\n",
       "      <th>2399</th>\n",
       "      <td>0.49</td>\n",
       "      <td>0.48</td>\n",
       "      <td>0.999698</td>\n",
       "      <td>0.999711</td>\n",
       "      <td>0.998846</td>\n",
       "    </tr>\n",
       "    <tr>\n",
       "      <th>2400</th>\n",
       "      <td>0.49</td>\n",
       "      <td>0.49</td>\n",
       "      <td>0.999711</td>\n",
       "      <td>0.999711</td>\n",
       "      <td>0.999711</td>\n",
       "    </tr>\n",
       "  </tbody>\n",
       "</table>\n",
       "<p>2401 rows × 5 columns</p>\n",
       "</div>"
      ],
      "text/plain": [
       "      P(i1|U)  P(i1|M)    H(I|M)      H(I)      H(M)\n",
       "0        0.01     0.01  0.080793  0.080793  0.080793\n",
       "1        0.01     0.02  0.081703  0.080793  0.141441\n",
       "2        0.01     0.03  0.082498  0.080793  0.194392\n",
       "3        0.01     0.04  0.083217  0.080793  0.242292\n",
       "4        0.01     0.05  0.083878  0.080793  0.286397\n",
       "...       ...      ...       ...       ...       ...\n",
       "2396     0.49     0.45  0.999607  0.999711  0.992774\n",
       "2397     0.49     0.46  0.999646  0.999711  0.995378\n",
       "2398     0.49     0.47  0.999677  0.999711  0.997402\n",
       "2399     0.49     0.48  0.999698  0.999711  0.998846\n",
       "2400     0.49     0.49  0.999711  0.999711  0.999711\n",
       "\n",
       "[2401 rows x 5 columns]"
      ]
     },
     "execution_count": 112,
     "metadata": {},
     "output_type": "execute_result"
    }
   ],
   "source": [
    "df = pd.DataFrame({\"P(i1|U)\":Him[0], \"P(i1|M)\":Him[1], \"H(I|M)\": Him[2], \"H(I)\":Him[3], \"H(M)\":Him[4]})\n",
    "df"
   ]
  },
  {
   "cell_type": "code",
   "execution_count": 113,
   "metadata": {},
   "outputs": [
    {
     "data": {
      "text/html": [
       "<div>\n",
       "<style scoped>\n",
       "    .dataframe tbody tr th:only-of-type {\n",
       "        vertical-align: middle;\n",
       "    }\n",
       "\n",
       "    .dataframe tbody tr th {\n",
       "        vertical-align: top;\n",
       "    }\n",
       "\n",
       "    .dataframe thead th {\n",
       "        text-align: right;\n",
       "    }\n",
       "</style>\n",
       "<table border=\"1\" class=\"dataframe\">\n",
       "  <thead>\n",
       "    <tr style=\"text-align: right;\">\n",
       "      <th></th>\n",
       "      <th>P(i1|U)</th>\n",
       "      <th>P(i1|M)</th>\n",
       "      <th>H(I|M)</th>\n",
       "      <th>H(I)</th>\n",
       "      <th>H(M)</th>\n",
       "    </tr>\n",
       "  </thead>\n",
       "  <tbody>\n",
       "    <tr>\n",
       "      <th>count</th>\n",
       "      <td>2401.000000</td>\n",
       "      <td>2401.000000</td>\n",
       "      <td>2401.000000</td>\n",
       "      <td>2401.000000</td>\n",
       "      <td>2401.000000</td>\n",
       "    </tr>\n",
       "    <tr>\n",
       "      <th>mean</th>\n",
       "      <td>0.250000</td>\n",
       "      <td>0.250000</td>\n",
       "      <td>0.725679</td>\n",
       "      <td>0.725679</td>\n",
       "      <td>0.725679</td>\n",
       "    </tr>\n",
       "    <tr>\n",
       "      <th>std</th>\n",
       "      <td>0.141451</td>\n",
       "      <td>0.141451</td>\n",
       "      <td>0.257933</td>\n",
       "      <td>0.261832</td>\n",
       "      <td>0.261832</td>\n",
       "    </tr>\n",
       "    <tr>\n",
       "      <th>min</th>\n",
       "      <td>0.010000</td>\n",
       "      <td>0.010000</td>\n",
       "      <td>0.080793</td>\n",
       "      <td>0.080793</td>\n",
       "      <td>0.080793</td>\n",
       "    </tr>\n",
       "    <tr>\n",
       "      <th>25%</th>\n",
       "      <td>0.130000</td>\n",
       "      <td>0.130000</td>\n",
       "      <td>0.557438</td>\n",
       "      <td>0.557438</td>\n",
       "      <td>0.557438</td>\n",
       "    </tr>\n",
       "    <tr>\n",
       "      <th>50%</th>\n",
       "      <td>0.250000</td>\n",
       "      <td>0.250000</td>\n",
       "      <td>0.811278</td>\n",
       "      <td>0.811278</td>\n",
       "      <td>0.811278</td>\n",
       "    </tr>\n",
       "    <tr>\n",
       "      <th>75%</th>\n",
       "      <td>0.370000</td>\n",
       "      <td>0.370000</td>\n",
       "      <td>0.949631</td>\n",
       "      <td>0.950672</td>\n",
       "      <td>0.950672</td>\n",
       "    </tr>\n",
       "    <tr>\n",
       "      <th>max</th>\n",
       "      <td>0.490000</td>\n",
       "      <td>0.490000</td>\n",
       "      <td>0.999711</td>\n",
       "      <td>0.999711</td>\n",
       "      <td>0.999711</td>\n",
       "    </tr>\n",
       "  </tbody>\n",
       "</table>\n",
       "</div>"
      ],
      "text/plain": [
       "           P(i1|U)      P(i1|M)       H(I|M)         H(I)         H(M)\n",
       "count  2401.000000  2401.000000  2401.000000  2401.000000  2401.000000\n",
       "mean      0.250000     0.250000     0.725679     0.725679     0.725679\n",
       "std       0.141451     0.141451     0.257933     0.261832     0.261832\n",
       "min       0.010000     0.010000     0.080793     0.080793     0.080793\n",
       "25%       0.130000     0.130000     0.557438     0.557438     0.557438\n",
       "50%       0.250000     0.250000     0.811278     0.811278     0.811278\n",
       "75%       0.370000     0.370000     0.949631     0.950672     0.950672\n",
       "max       0.490000     0.490000     0.999711     0.999711     0.999711"
      ]
     },
     "execution_count": 113,
     "metadata": {},
     "output_type": "execute_result"
    }
   ],
   "source": [
    "df.describe()"
   ]
  },
  {
   "cell_type": "code",
   "execution_count": 114,
   "metadata": {},
   "outputs": [
    {
     "data": {
      "text/plain": [
       "<AxesSubplot:xlabel='P(i1|M)', ylabel='H(I)'>"
      ]
     },
     "execution_count": 114,
     "metadata": {},
     "output_type": "execute_result"
    },
    {
     "data": {
      "image/png": "[encoded data removed]",
      "text/plain": [
       "<Figure size 432x288 with 1 Axes>"
      ]
     },
     "metadata": {
      "needs_background": "light"
     },
     "output_type": "display_data"
    },
    {
     "data": {
      "image/png": "[encoded data removed]",
      "text/plain": [
       "<Figure size 432x288 with 1 Axes>"
      ]
     },
     "metadata": {
      "needs_background": "light"
     },
     "output_type": "display_data"
    },
    {
     "data": {
      "image/png": "[encoded data removed]",
      "text/plain": [
       "<Figure size 432x288 with 1 Axes>"
      ]
     },
     "metadata": {
      "needs_background": "light"
     },
     "output_type": "display_data"
    },
    {
     "data": {
      "image/png": "[encoded data removed]",
      "text/plain": [
       "<Figure size 432x288 with 1 Axes>"
      ]
     },
     "metadata": {
      "needs_background": "light"
     },
     "output_type": "display_data"
    }
   ],
   "source": [
    "df.plot.scatter(x='P(i1|U)', y='H(I|M)')\n",
    "df.plot.scatter(x='P(i1|U)', y='H(M)')\n",
    "\n",
    "df.plot.scatter(x='P(i1|M)', y='H(I|M)')\n",
    "df.plot.scatter(x='P(i1|M)', y='H(I)')"
   ]
  },
  {
   "cell_type": "code",
   "execution_count": 104,
   "metadata": {},
   "outputs": [
    {
     "name": "stdout",
     "output_type": "stream",
     "text": [
      "<class 'matplotlib.axes._subplots.Axes3DSubplot'>\n"
     ]
    },
    {
     "data": {
      "image/png": "[encoded data removed]",
      "text/plain": [
       "<Figure size 432x360 with 1 Axes>"
      ]
     },
     "metadata": {
      "needs_background": "light"
     },
     "output_type": "display_data"
    }
   ],
   "source": [
    "x1 = df[[\"P(i1|U)\"]]\n",
    "y1 = df[[\"P(i1|M)\"]]\n",
    "z1 = df[[\"H(I|M)\"]]\n",
    "\n",
    "\n",
    "plt.figure(figsize=(6, 5))\n",
    "axes = plt.axes(projection=\"3d\")\n",
    "print(type(axes))\n",
    "axes.scatter3D(x1, y1, z1)\n",
    "\n",
    "axes.set_xlabel(\"P(i1|U)\")\n",
    "axes.set_ylabel(\"P(i1|M)\")\n",
    "axes.set_zlabel(\"H(I|M)\")\n",
    "plt.show()"
   ]
  },
  {
   "cell_type": "markdown",
   "metadata": {},
   "source": [
    "## u=0.01の場合"
   ]
  },
  {
   "cell_type": "code",
   "execution_count": 59,
   "metadata": {},
   "outputs": [
    {
     "data": {
      "text/plain": [
       "<AxesSubplot:xlabel='P(i1|M)', ylabel='H(I|M)'>"
      ]
     },
     "execution_count": 59,
     "metadata": {},
     "output_type": "execute_result"
    },
    {
     "data": {
      "image/png": "[encoded data removed]",
      "text/plain": [
       "<Figure size 432x288 with 1 Axes>"
      ]
     },
     "metadata": {
      "needs_background": "light"
     },
     "output_type": "display_data"
    }
   ],
   "source": [
    "# df.plot.scatter(x='P(i1|U)', y='H(I|M)')\n",
    "# df.plot.scatter(x='P(i1|U)', y='H(M)')\n",
    "\n",
    "df.plot.scatter(x='P(i1|M)', y='H(I|M)')\n",
    "# df.plot.scatter(x='P(i1|M)', y='H(I)')"
   ]
  },
  {
   "cell_type": "code",
   "execution_count": 66,
   "metadata": {},
   "outputs": [
    {
     "data": {
      "text/plain": [
       "pandas.core.frame.DataFrame"
      ]
     },
     "execution_count": 66,
     "metadata": {},
     "output_type": "execute_result"
    }
   ],
   "source": [
    "x = df[[\"P(i1|M)\"]]\n",
    "y = df[[\"H(I|M)\"]]\n",
    "type(x)"
   ]
  },
  {
   "cell_type": "code",
   "execution_count": 68,
   "metadata": {},
   "outputs": [
    {
     "data": {
      "image/png": "[encoded data removed]",
      "text/plain": [
       "<Figure size 432x288 with 1 Axes>"
      ]
     },
     "metadata": {
      "needs_background": "light"
     },
     "output_type": "display_data"
    },
    {
     "name": "stdout",
     "output_type": "stream",
     "text": [
      "モデル関数の回帰変数 w1: 3.684\n",
      "モデル関数の切片 w2: 0.095\n",
      "y= 3.684x + 0.095\n",
      "決定係数 R^2：  0.9989128621451591\n"
     ]
    }
   ],
   "source": [
    "from sklearn.linear_model import LinearRegression\n",
    "\n",
    "model_lr = LinearRegression()\n",
    "model_lr.fit(x, y)\n",
    "\n",
    "plt.plot(x, y, \"o\")\n",
    "plt.plot(x, model_lr.predict(x), linestyle=\"solid\")\n",
    "plt.show()\n",
    "\n",
    "print('モデル関数の回帰変数 w1: %.3f' %model_lr.coef_)\n",
    "print('モデル関数の切片 w2: %.3f' %model_lr.intercept_)\n",
    "print('y= %.3fx + %.3f' % (model_lr.coef_ , model_lr.intercept_))\n",
    "print('決定係数 R^2： ', model_lr.score(x, y))"
   ]
  },
  {
   "cell_type": "markdown",
   "metadata": {},
   "source": [
    "## エントロピー基本の可視化"
   ]
  },
  {
   "cell_type": "code",
   "execution_count": null,
   "metadata": {},
   "outputs": [],
   "source": []
  }
 ],
 "metadata": {
  "kernelspec": {
   "display_name": "base",
   "language": "python",
   "name": "python3"
  },
  "language_info": {
   "codemirror_mode": {
    "name": "ipython",
    "version": 3
   },
   "file_extension": ".py",
   "mimetype": "text/x-python",
   "name": "python",
   "nbconvert_exporter": "python",
   "pygments_lexer": "ipython3",
   "version": "3.9.7"
  }
 },
 "nbformat": 4,
 "nbformat_minor": 2
}
